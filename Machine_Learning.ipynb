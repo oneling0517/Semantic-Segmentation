{
 "cells": [
  {
   "cell_type": "markdown",
   "metadata": {
    "id": "pXQTOcqrE68W"
   },
   "source": [
    "# Lab#1: Convert model.pb into model.tflite (Student)\n",
    "\n",
    "\n",
    "---\n",
    "\n"
   ]
  },
  {
   "cell_type": "markdown",
   "metadata": {
    "id": "ZqgJtN1lu56A"
   },
   "source": [
    "Mount your Google Drive\n",
    "\n",
    "/ is the root folder of colab and drive is the virtual folder"
   ]
  },
  {
   "cell_type": "code",
   "execution_count": null,
   "metadata": {
    "id": "m9MVn6gt7n_4"
   },
   "outputs": [],
   "source": [
    "from google.colab import drive\n",
    "drive.mount('/content/drive')\n",
    "\n",
    "!unzip /content/drive/MyDrive/ML2022/MediaTek_IEE5725_Machine_Learning_Lab1.zip -d /content/drive/MyDrive/ML2022/lab1/\n",
    "!unzip /content/drive/MyDrive/ML2022/ICME2022_Training_Dataset_student.zip -d /content/drive/MyDrive/ML2022/"
   ]
  },
  {
   "cell_type": "code",
   "execution_count": null,
   "metadata": {
    "id": "DRe0-VTT7DKa"
   },
   "outputs": [],
   "source": [
    "!unzip /content/drive/MyDrive/ML2022/MediaTek_IEE5725_Machine_Learning_Lab2.zip -d /content/drive/MyDrive/ML2022/lab2/\n",
    "!unzip /content/drive/MyDrive/ML2022/MediaTek_IEE5725_Machine_Learning_Lab3.zip -d /content/drive/MyDrive/ML2022/lab3/"
   ]
  },
  {
   "cell_type": "code",
   "execution_count": null,
   "metadata": {
    "colab": {
     "base_uri": "https://localhost:8080/"
    },
    "id": "wxaOP6W_ISd8",
    "outputId": "af055e56-e7cb-4017-a584-57e109cf8621"
   },
   "outputs": [
    {
     "name": "stdout",
     "output_type": "stream",
     "text": [
      "Archive:  /content/drive/MyDrive/ML2022/ICME2022_Training_Dataset_update.zip\n",
      "   creating: /content/drive/MyDrive/ML2022/ICME2022_Training_Dataset/images_real_world/\n",
      "  inflating: /content/drive/MyDrive/ML2022/ICME2022_Training_Dataset/images_real_world/0501.jpg  \n",
      "  inflating: /content/drive/MyDrive/ML2022/ICME2022_Training_Dataset/images_real_world/0502.jpg  \n",
      "  inflating: /content/drive/MyDrive/ML2022/ICME2022_Training_Dataset/images_real_world/0503.jpg  \n",
      "  inflating: /content/drive/MyDrive/ML2022/ICME2022_Training_Dataset/images_real_world/0504.jpg  \n",
      "  inflating: /content/drive/MyDrive/ML2022/ICME2022_Training_Dataset/images_real_world/0505.jpg  \n",
      "  inflating: /content/drive/MyDrive/ML2022/ICME2022_Training_Dataset/images_real_world/0506.jpg  \n",
      "  inflating: /content/drive/MyDrive/ML2022/ICME2022_Training_Dataset/images_real_world/0507.jpg  \n",
      "  inflating: /content/drive/MyDrive/ML2022/ICME2022_Training_Dataset/images_real_world/0508.jpg  \n",
      "  inflating: /content/drive/MyDrive/ML2022/ICME2022_Training_Dataset/images_real_world/0509.jpg  \n",
      "  inflating: /content/drive/MyDrive/ML2022/ICME2022_Training_Dataset/images_real_world/0510.jpg  \n",
      "  inflating: /content/drive/MyDrive/ML2022/ICME2022_Training_Dataset/images_real_world/0511.jpg  \n",
      "  inflating: /content/drive/MyDrive/ML2022/ICME2022_Training_Dataset/images_real_world/0512.jpg  \n",
      "  inflating: /content/drive/MyDrive/ML2022/ICME2022_Training_Dataset/images_real_world/0513.jpg  \n",
      "  inflating: /content/drive/MyDrive/ML2022/ICME2022_Training_Dataset/images_real_world/0514.jpg  \n",
      "  inflating: /content/drive/MyDrive/ML2022/ICME2022_Training_Dataset/images_real_world/0515.jpg  \n",
      "  inflating: /content/drive/MyDrive/ML2022/ICME2022_Training_Dataset/images_real_world/0516.jpg  \n",
      "  inflating: /content/drive/MyDrive/ML2022/ICME2022_Training_Dataset/images_real_world/0517.jpg  \n",
      "  inflating: /content/drive/MyDrive/ML2022/ICME2022_Training_Dataset/images_real_world/0518.jpg  \n",
      "  inflating: /content/drive/MyDrive/ML2022/ICME2022_Training_Dataset/images_real_world/0519.jpg  \n",
      "  inflating: /content/drive/MyDrive/ML2022/ICME2022_Training_Dataset/images_real_world/0520.jpg  \n",
      "  inflating: /content/drive/MyDrive/ML2022/ICME2022_Training_Dataset/images_real_world/0521.jpg  \n",
      "  inflating: /content/drive/MyDrive/ML2022/ICME2022_Training_Dataset/images_real_world/0522.jpg  \n",
      "  inflating: /content/drive/MyDrive/ML2022/ICME2022_Training_Dataset/images_real_world/0523.jpg  \n",
      "  inflating: /content/drive/MyDrive/ML2022/ICME2022_Training_Dataset/images_real_world/0524.jpg  \n",
      "  inflating: /content/drive/MyDrive/ML2022/ICME2022_Training_Dataset/images_real_world/0525.jpg  \n",
      "  inflating: /content/drive/MyDrive/ML2022/ICME2022_Training_Dataset/images_real_world/0526.jpg  \n",
      "  inflating: /content/drive/MyDrive/ML2022/ICME2022_Training_Dataset/images_real_world/0527.jpg  \n",
      "  inflating: /content/drive/MyDrive/ML2022/ICME2022_Training_Dataset/images_real_world/0528.jpg  \n",
      "  inflating: /content/drive/MyDrive/ML2022/ICME2022_Training_Dataset/images_real_world/0529.jpg  \n",
      "  inflating: /content/drive/MyDrive/ML2022/ICME2022_Training_Dataset/images_real_world/0530.jpg  \n",
      "  inflating: /content/drive/MyDrive/ML2022/ICME2022_Training_Dataset/images_real_world/0531.jpg  \n",
      "  inflating: /content/drive/MyDrive/ML2022/ICME2022_Training_Dataset/images_real_world/0532.jpg  \n",
      "  inflating: /content/drive/MyDrive/ML2022/ICME2022_Training_Dataset/images_real_world/0533.jpg  \n",
      "  inflating: /content/drive/MyDrive/ML2022/ICME2022_Training_Dataset/images_real_world/0534.jpg  \n",
      "  inflating: /content/drive/MyDrive/ML2022/ICME2022_Training_Dataset/images_real_world/0535.jpg  \n",
      "  inflating: /content/drive/MyDrive/ML2022/ICME2022_Training_Dataset/images_real_world/0536.jpg  \n",
      "  inflating: /content/drive/MyDrive/ML2022/ICME2022_Training_Dataset/images_real_world/0537.jpg  \n",
      "  inflating: /content/drive/MyDrive/ML2022/ICME2022_Training_Dataset/images_real_world/0538.jpg  \n",
      "  inflating: /content/drive/MyDrive/ML2022/ICME2022_Training_Dataset/images_real_world/0539.jpg  \n",
      "  inflating: /content/drive/MyDrive/ML2022/ICME2022_Training_Dataset/images_real_world/0540.jpg  \n",
      "  inflating: /content/drive/MyDrive/ML2022/ICME2022_Training_Dataset/images_real_world/0541.jpg  \n",
      "  inflating: /content/drive/MyDrive/ML2022/ICME2022_Training_Dataset/images_real_world/0542.jpg  \n",
      "  inflating: /content/drive/MyDrive/ML2022/ICME2022_Training_Dataset/images_real_world/0543.jpg  \n",
      "  inflating: /content/drive/MyDrive/ML2022/ICME2022_Training_Dataset/images_real_world/0544.jpg  \n",
      "  inflating: /content/drive/MyDrive/ML2022/ICME2022_Training_Dataset/images_real_world/0545.jpg  \n",
      "  inflating: /content/drive/MyDrive/ML2022/ICME2022_Training_Dataset/images_real_world/0546.jpg  \n",
      "  inflating: /content/drive/MyDrive/ML2022/ICME2022_Training_Dataset/images_real_world/0547.jpg  \n",
      "  inflating: /content/drive/MyDrive/ML2022/ICME2022_Training_Dataset/images_real_world/0548.jpg  \n",
      "  inflating: /content/drive/MyDrive/ML2022/ICME2022_Training_Dataset/images_real_world/0549.jpg  \n",
      "  inflating: /content/drive/MyDrive/ML2022/ICME2022_Training_Dataset/images_real_world/0550.jpg  \n",
      "  inflating: /content/drive/MyDrive/ML2022/ICME2022_Training_Dataset/images_real_world/0551.jpg  \n",
      "  inflating: /content/drive/MyDrive/ML2022/ICME2022_Training_Dataset/images_real_world/0552.jpg  \n",
      "  inflating: /content/drive/MyDrive/ML2022/ICME2022_Training_Dataset/images_real_world/0553.jpg  \n",
      "  inflating: /content/drive/MyDrive/ML2022/ICME2022_Training_Dataset/images_real_world/0554.jpg  \n",
      "  inflating: /content/drive/MyDrive/ML2022/ICME2022_Training_Dataset/images_real_world/0555.jpg  \n",
      "  inflating: /content/drive/MyDrive/ML2022/ICME2022_Training_Dataset/images_real_world/0556.jpg  \n",
      "  inflating: /content/drive/MyDrive/ML2022/ICME2022_Training_Dataset/images_real_world/0557.jpg  \n",
      "  inflating: /content/drive/MyDrive/ML2022/ICME2022_Training_Dataset/images_real_world/0558.jpg  \n",
      " extracting: /content/drive/MyDrive/ML2022/ICME2022_Training_Dataset/images_real_world/0559.jpg  \n",
      "  inflating: /content/drive/MyDrive/ML2022/ICME2022_Training_Dataset/images_real_world/0560.jpg  \n",
      " extracting: /content/drive/MyDrive/ML2022/ICME2022_Training_Dataset/images_real_world/0561.jpg  \n",
      "  inflating: /content/drive/MyDrive/ML2022/ICME2022_Training_Dataset/images_real_world/0562.jpg  \n",
      "  inflating: /content/drive/MyDrive/ML2022/ICME2022_Training_Dataset/images_real_world/0563.jpg  \n",
      " extracting: /content/drive/MyDrive/ML2022/ICME2022_Training_Dataset/images_real_world/0564.jpg  \n",
      "  inflating: /content/drive/MyDrive/ML2022/ICME2022_Training_Dataset/images_real_world/0565.jpg  \n",
      "  inflating: /content/drive/MyDrive/ML2022/ICME2022_Training_Dataset/images_real_world/0566.jpg  \n",
      "  inflating: /content/drive/MyDrive/ML2022/ICME2022_Training_Dataset/images_real_world/0567.jpg  \n",
      " extracting: /content/drive/MyDrive/ML2022/ICME2022_Training_Dataset/images_real_world/0568.jpg  \n",
      "  inflating: /content/drive/MyDrive/ML2022/ICME2022_Training_Dataset/images_real_world/0569.jpg  \n",
      " extracting: /content/drive/MyDrive/ML2022/ICME2022_Training_Dataset/images_real_world/0570.jpg  \n",
      " extracting: /content/drive/MyDrive/ML2022/ICME2022_Training_Dataset/images_real_world/0571.jpg  \n",
      "  inflating: /content/drive/MyDrive/ML2022/ICME2022_Training_Dataset/images_real_world/0572.jpg  \n",
      "  inflating: /content/drive/MyDrive/ML2022/ICME2022_Training_Dataset/images_real_world/0573.jpg  \n",
      "  inflating: /content/drive/MyDrive/ML2022/ICME2022_Training_Dataset/images_real_world/0574.jpg  \n",
      "  inflating: /content/drive/MyDrive/ML2022/ICME2022_Training_Dataset/images_real_world/0575.jpg  \n",
      "  inflating: /content/drive/MyDrive/ML2022/ICME2022_Training_Dataset/images_real_world/0576.jpg  \n",
      "  inflating: /content/drive/MyDrive/ML2022/ICME2022_Training_Dataset/images_real_world/0577.jpg  \n",
      "  inflating: /content/drive/MyDrive/ML2022/ICME2022_Training_Dataset/images_real_world/0578.jpg  \n",
      "  inflating: /content/drive/MyDrive/ML2022/ICME2022_Training_Dataset/images_real_world/0579.jpg  \n",
      "  inflating: /content/drive/MyDrive/ML2022/ICME2022_Training_Dataset/images_real_world/0580.jpg  \n",
      "  inflating: /content/drive/MyDrive/ML2022/ICME2022_Training_Dataset/images_real_world/0581.jpg  \n",
      "  inflating: /content/drive/MyDrive/ML2022/ICME2022_Training_Dataset/images_real_world/0582.jpg  \n",
      "  inflating: /content/drive/MyDrive/ML2022/ICME2022_Training_Dataset/images_real_world/0583.jpg  \n",
      "  inflating: /content/drive/MyDrive/ML2022/ICME2022_Training_Dataset/images_real_world/0584.jpg  \n",
      "  inflating: /content/drive/MyDrive/ML2022/ICME2022_Training_Dataset/images_real_world/0585.jpg  \n",
      "  inflating: /content/drive/MyDrive/ML2022/ICME2022_Training_Dataset/images_real_world/0586.jpg  \n",
      "  inflating: /content/drive/MyDrive/ML2022/ICME2022_Training_Dataset/images_real_world/0587.jpg  \n",
      "  inflating: /content/drive/MyDrive/ML2022/ICME2022_Training_Dataset/images_real_world/0588.jpg  \n",
      "  inflating: /content/drive/MyDrive/ML2022/ICME2022_Training_Dataset/images_real_world/0589.jpg  \n",
      "  inflating: /content/drive/MyDrive/ML2022/ICME2022_Training_Dataset/images_real_world/0590.jpg  \n",
      "  inflating: /content/drive/MyDrive/ML2022/ICME2022_Training_Dataset/images_real_world/0591.jpg  \n",
      "  inflating: /content/drive/MyDrive/ML2022/ICME2022_Training_Dataset/images_real_world/0592.jpg  \n",
      "  inflating: /content/drive/MyDrive/ML2022/ICME2022_Training_Dataset/images_real_world/0593.jpg  \n",
      "  inflating: /content/drive/MyDrive/ML2022/ICME2022_Training_Dataset/images_real_world/0594.jpg  \n",
      "  inflating: /content/drive/MyDrive/ML2022/ICME2022_Training_Dataset/images_real_world/0595.jpg  \n",
      "  inflating: /content/drive/MyDrive/ML2022/ICME2022_Training_Dataset/images_real_world/0596.jpg  \n",
      "  inflating: /content/drive/MyDrive/ML2022/ICME2022_Training_Dataset/images_real_world/0597.jpg  \n",
      "  inflating: /content/drive/MyDrive/ML2022/ICME2022_Training_Dataset/images_real_world/0598.jpg  \n",
      "  inflating: /content/drive/MyDrive/ML2022/ICME2022_Training_Dataset/images_real_world/0599.jpg  \n",
      "  inflating: /content/drive/MyDrive/ML2022/ICME2022_Training_Dataset/images_real_world/0600.jpg  \n",
      "  inflating: /content/drive/MyDrive/ML2022/ICME2022_Training_Dataset/images_real_world/0601.jpg  \n",
      "  inflating: /content/drive/MyDrive/ML2022/ICME2022_Training_Dataset/images_real_world/0602.jpg  \n",
      "  inflating: /content/drive/MyDrive/ML2022/ICME2022_Training_Dataset/images_real_world/0603.jpg  \n",
      "  inflating: /content/drive/MyDrive/ML2022/ICME2022_Training_Dataset/images_real_world/0604.jpg  \n",
      "  inflating: /content/drive/MyDrive/ML2022/ICME2022_Training_Dataset/images_real_world/0605.jpg  \n",
      "  inflating: /content/drive/MyDrive/ML2022/ICME2022_Training_Dataset/images_real_world/0606.jpg  \n",
      "  inflating: /content/drive/MyDrive/ML2022/ICME2022_Training_Dataset/images_real_world/0607.jpg  \n",
      "  inflating: /content/drive/MyDrive/ML2022/ICME2022_Training_Dataset/images_real_world/0608.jpg  \n",
      "  inflating: /content/drive/MyDrive/ML2022/ICME2022_Training_Dataset/images_real_world/0609.jpg  \n",
      "  inflating: /content/drive/MyDrive/ML2022/ICME2022_Training_Dataset/images_real_world/0610.jpg  \n",
      "  inflating: /content/drive/MyDrive/ML2022/ICME2022_Training_Dataset/images_real_world/0611.jpg  \n",
      "  inflating: /content/drive/MyDrive/ML2022/ICME2022_Training_Dataset/images_real_world/0612.jpg  \n",
      "  inflating: /content/drive/MyDrive/ML2022/ICME2022_Training_Dataset/images_real_world/0613.jpg  \n",
      "  inflating: /content/drive/MyDrive/ML2022/ICME2022_Training_Dataset/images_real_world/0614.jpg  \n",
      "  inflating: /content/drive/MyDrive/ML2022/ICME2022_Training_Dataset/images_real_world/0615.jpg  \n",
      "  inflating: /content/drive/MyDrive/ML2022/ICME2022_Training_Dataset/images_real_world/0616.jpg  \n",
      "  inflating: /content/drive/MyDrive/ML2022/ICME2022_Training_Dataset/images_real_world/0617.jpg  \n",
      "  inflating: /content/drive/MyDrive/ML2022/ICME2022_Training_Dataset/images_real_world/0618.jpg  \n",
      "  inflating: /content/drive/MyDrive/ML2022/ICME2022_Training_Dataset/images_real_world/0619.jpg  \n",
      "  inflating: /content/drive/MyDrive/ML2022/ICME2022_Training_Dataset/images_real_world/0620.jpg  \n",
      "  inflating: /content/drive/MyDrive/ML2022/ICME2022_Training_Dataset/images_real_world/0621.jpg  \n",
      "  inflating: /content/drive/MyDrive/ML2022/ICME2022_Training_Dataset/images_real_world/0622.jpg  \n",
      "  inflating: /content/drive/MyDrive/ML2022/ICME2022_Training_Dataset/images_real_world/0623.jpg  \n",
      "  inflating: /content/drive/MyDrive/ML2022/ICME2022_Training_Dataset/images_real_world/0624.jpg  \n",
      "  inflating: /content/drive/MyDrive/ML2022/ICME2022_Training_Dataset/images_real_world/0625.jpg  \n",
      "  inflating: /content/drive/MyDrive/ML2022/ICME2022_Training_Dataset/images_real_world/0626.jpg  \n",
      "  inflating: /content/drive/MyDrive/ML2022/ICME2022_Training_Dataset/images_real_world/0627.jpg  \n",
      "  inflating: /content/drive/MyDrive/ML2022/ICME2022_Training_Dataset/images_real_world/0628.jpg  \n",
      "  inflating: /content/drive/MyDrive/ML2022/ICME2022_Training_Dataset/images_real_world/0629.jpg  \n",
      "  inflating: /content/drive/MyDrive/ML2022/ICME2022_Training_Dataset/images_real_world/0630.jpg  \n",
      "   creating: /content/drive/MyDrive/ML2022/ICME2022_Training_Dataset/labels_real_world/\n",
      "  inflating: /content/drive/MyDrive/ML2022/ICME2022_Training_Dataset/labels_real_world/0501.png  \n",
      "  inflating: /content/drive/MyDrive/ML2022/ICME2022_Training_Dataset/labels_real_world/0502.png  \n",
      "  inflating: /content/drive/MyDrive/ML2022/ICME2022_Training_Dataset/labels_real_world/0503.png  \n",
      "  inflating: /content/drive/MyDrive/ML2022/ICME2022_Training_Dataset/labels_real_world/0504.png  \n",
      "  inflating: /content/drive/MyDrive/ML2022/ICME2022_Training_Dataset/labels_real_world/0505.png  \n",
      "  inflating: /content/drive/MyDrive/ML2022/ICME2022_Training_Dataset/labels_real_world/0506.png  \n",
      "  inflating: /content/drive/MyDrive/ML2022/ICME2022_Training_Dataset/labels_real_world/0507.png  \n",
      "  inflating: /content/drive/MyDrive/ML2022/ICME2022_Training_Dataset/labels_real_world/0508.png  \n",
      "  inflating: /content/drive/MyDrive/ML2022/ICME2022_Training_Dataset/labels_real_world/0509.png  \n",
      "  inflating: /content/drive/MyDrive/ML2022/ICME2022_Training_Dataset/labels_real_world/0510.png  \n",
      "  inflating: /content/drive/MyDrive/ML2022/ICME2022_Training_Dataset/labels_real_world/0511.png  \n",
      "  inflating: /content/drive/MyDrive/ML2022/ICME2022_Training_Dataset/labels_real_world/0512.png  \n",
      "  inflating: /content/drive/MyDrive/ML2022/ICME2022_Training_Dataset/labels_real_world/0513.png  \n",
      "  inflating: /content/drive/MyDrive/ML2022/ICME2022_Training_Dataset/labels_real_world/0514.png  \n",
      "  inflating: /content/drive/MyDrive/ML2022/ICME2022_Training_Dataset/labels_real_world/0515.png  \n",
      "  inflating: /content/drive/MyDrive/ML2022/ICME2022_Training_Dataset/labels_real_world/0516.png  \n",
      "  inflating: /content/drive/MyDrive/ML2022/ICME2022_Training_Dataset/labels_real_world/0517.png  \n",
      "  inflating: /content/drive/MyDrive/ML2022/ICME2022_Training_Dataset/labels_real_world/0518.png  \n",
      "  inflating: /content/drive/MyDrive/ML2022/ICME2022_Training_Dataset/labels_real_world/0519.png  \n",
      "  inflating: /content/drive/MyDrive/ML2022/ICME2022_Training_Dataset/labels_real_world/0520.png  \n",
      "  inflating: /content/drive/MyDrive/ML2022/ICME2022_Training_Dataset/labels_real_world/0521.png  \n",
      "  inflating: /content/drive/MyDrive/ML2022/ICME2022_Training_Dataset/labels_real_world/0522.png  \n",
      "  inflating: /content/drive/MyDrive/ML2022/ICME2022_Training_Dataset/labels_real_world/0523.png  \n",
      "  inflating: /content/drive/MyDrive/ML2022/ICME2022_Training_Dataset/labels_real_world/0524.png  \n",
      "  inflating: /content/drive/MyDrive/ML2022/ICME2022_Training_Dataset/labels_real_world/0525.png  \n",
      "  inflating: /content/drive/MyDrive/ML2022/ICME2022_Training_Dataset/labels_real_world/0526.png  \n",
      "  inflating: /content/drive/MyDrive/ML2022/ICME2022_Training_Dataset/labels_real_world/0527.png  \n",
      "  inflating: /content/drive/MyDrive/ML2022/ICME2022_Training_Dataset/labels_real_world/0528.png  \n",
      "  inflating: /content/drive/MyDrive/ML2022/ICME2022_Training_Dataset/labels_real_world/0529.png  \n",
      "  inflating: /content/drive/MyDrive/ML2022/ICME2022_Training_Dataset/labels_real_world/0530.png  \n",
      "  inflating: /content/drive/MyDrive/ML2022/ICME2022_Training_Dataset/labels_real_world/0531.png  \n",
      "  inflating: /content/drive/MyDrive/ML2022/ICME2022_Training_Dataset/labels_real_world/0532.png  \n",
      "  inflating: /content/drive/MyDrive/ML2022/ICME2022_Training_Dataset/labels_real_world/0533.png  \n",
      "  inflating: /content/drive/MyDrive/ML2022/ICME2022_Training_Dataset/labels_real_world/0534.png  \n",
      "  inflating: /content/drive/MyDrive/ML2022/ICME2022_Training_Dataset/labels_real_world/0535.png  \n",
      "  inflating: /content/drive/MyDrive/ML2022/ICME2022_Training_Dataset/labels_real_world/0536.png  \n",
      "  inflating: /content/drive/MyDrive/ML2022/ICME2022_Training_Dataset/labels_real_world/0537.png  \n",
      "  inflating: /content/drive/MyDrive/ML2022/ICME2022_Training_Dataset/labels_real_world/0538.png  \n",
      "  inflating: /content/drive/MyDrive/ML2022/ICME2022_Training_Dataset/labels_real_world/0539.png  \n",
      "  inflating: /content/drive/MyDrive/ML2022/ICME2022_Training_Dataset/labels_real_world/0540.png  \n",
      "  inflating: /content/drive/MyDrive/ML2022/ICME2022_Training_Dataset/labels_real_world/0541.png  \n",
      "  inflating: /content/drive/MyDrive/ML2022/ICME2022_Training_Dataset/labels_real_world/0542.png  \n",
      "  inflating: /content/drive/MyDrive/ML2022/ICME2022_Training_Dataset/labels_real_world/0543.png  \n",
      "  inflating: /content/drive/MyDrive/ML2022/ICME2022_Training_Dataset/labels_real_world/0544.png  \n",
      "  inflating: /content/drive/MyDrive/ML2022/ICME2022_Training_Dataset/labels_real_world/0545.png  \n",
      "  inflating: /content/drive/MyDrive/ML2022/ICME2022_Training_Dataset/labels_real_world/0546.png  \n",
      "  inflating: /content/drive/MyDrive/ML2022/ICME2022_Training_Dataset/labels_real_world/0547.png  \n",
      "  inflating: /content/drive/MyDrive/ML2022/ICME2022_Training_Dataset/labels_real_world/0548.png  \n",
      "  inflating: /content/drive/MyDrive/ML2022/ICME2022_Training_Dataset/labels_real_world/0549.png  \n",
      "  inflating: /content/drive/MyDrive/ML2022/ICME2022_Training_Dataset/labels_real_world/0550.png  \n",
      "  inflating: /content/drive/MyDrive/ML2022/ICME2022_Training_Dataset/labels_real_world/0551.png  \n",
      "  inflating: /content/drive/MyDrive/ML2022/ICME2022_Training_Dataset/labels_real_world/0552.png  \n",
      "  inflating: /content/drive/MyDrive/ML2022/ICME2022_Training_Dataset/labels_real_world/0553.png  \n",
      "  inflating: /content/drive/MyDrive/ML2022/ICME2022_Training_Dataset/labels_real_world/0554.png  \n",
      "  inflating: /content/drive/MyDrive/ML2022/ICME2022_Training_Dataset/labels_real_world/0555.png  \n",
      "  inflating: /content/drive/MyDrive/ML2022/ICME2022_Training_Dataset/labels_real_world/0556.png  \n",
      "  inflating: /content/drive/MyDrive/ML2022/ICME2022_Training_Dataset/labels_real_world/0557.png  \n",
      "  inflating: /content/drive/MyDrive/ML2022/ICME2022_Training_Dataset/labels_real_world/0558.png  \n",
      "  inflating: /content/drive/MyDrive/ML2022/ICME2022_Training_Dataset/labels_real_world/0559.png  \n",
      "  inflating: /content/drive/MyDrive/ML2022/ICME2022_Training_Dataset/labels_real_world/0560.png  \n",
      "  inflating: /content/drive/MyDrive/ML2022/ICME2022_Training_Dataset/labels_real_world/0561.png  \n",
      "  inflating: /content/drive/MyDrive/ML2022/ICME2022_Training_Dataset/labels_real_world/0562.png  \n",
      "  inflating: /content/drive/MyDrive/ML2022/ICME2022_Training_Dataset/labels_real_world/0563.png  \n",
      "  inflating: /content/drive/MyDrive/ML2022/ICME2022_Training_Dataset/labels_real_world/0564.png  \n",
      "  inflating: /content/drive/MyDrive/ML2022/ICME2022_Training_Dataset/labels_real_world/0565.png  \n",
      "  inflating: /content/drive/MyDrive/ML2022/ICME2022_Training_Dataset/labels_real_world/0566.png  \n",
      "  inflating: /content/drive/MyDrive/ML2022/ICME2022_Training_Dataset/labels_real_world/0567.png  \n",
      "  inflating: /content/drive/MyDrive/ML2022/ICME2022_Training_Dataset/labels_real_world/0568.png  \n",
      "  inflating: /content/drive/MyDrive/ML2022/ICME2022_Training_Dataset/labels_real_world/0569.png  \n",
      "  inflating: /content/drive/MyDrive/ML2022/ICME2022_Training_Dataset/labels_real_world/0570.png  \n",
      "  inflating: /content/drive/MyDrive/ML2022/ICME2022_Training_Dataset/labels_real_world/0571.png  \n",
      "  inflating: /content/drive/MyDrive/ML2022/ICME2022_Training_Dataset/labels_real_world/0572.png  \n",
      "  inflating: /content/drive/MyDrive/ML2022/ICME2022_Training_Dataset/labels_real_world/0573.png  \n",
      "  inflating: /content/drive/MyDrive/ML2022/ICME2022_Training_Dataset/labels_real_world/0574.png  \n",
      "  inflating: /content/drive/MyDrive/ML2022/ICME2022_Training_Dataset/labels_real_world/0575.png  \n",
      "  inflating: /content/drive/MyDrive/ML2022/ICME2022_Training_Dataset/labels_real_world/0576.png  \n",
      "  inflating: /content/drive/MyDrive/ML2022/ICME2022_Training_Dataset/labels_real_world/0577.png  \n",
      "  inflating: /content/drive/MyDrive/ML2022/ICME2022_Training_Dataset/labels_real_world/0578.png  \n",
      "  inflating: /content/drive/MyDrive/ML2022/ICME2022_Training_Dataset/labels_real_world/0579.png  \n",
      "  inflating: /content/drive/MyDrive/ML2022/ICME2022_Training_Dataset/labels_real_world/0580.png  \n",
      "  inflating: /content/drive/MyDrive/ML2022/ICME2022_Training_Dataset/labels_real_world/0581.png  \n",
      "  inflating: /content/drive/MyDrive/ML2022/ICME2022_Training_Dataset/labels_real_world/0582.png  \n",
      "  inflating: /content/drive/MyDrive/ML2022/ICME2022_Training_Dataset/labels_real_world/0583.png  \n",
      "  inflating: /content/drive/MyDrive/ML2022/ICME2022_Training_Dataset/labels_real_world/0584.png  \n",
      "  inflating: /content/drive/MyDrive/ML2022/ICME2022_Training_Dataset/labels_real_world/0585.png  \n",
      "  inflating: /content/drive/MyDrive/ML2022/ICME2022_Training_Dataset/labels_real_world/0586.png  \n",
      "  inflating: /content/drive/MyDrive/ML2022/ICME2022_Training_Dataset/labels_real_world/0587.png  \n",
      "  inflating: /content/drive/MyDrive/ML2022/ICME2022_Training_Dataset/labels_real_world/0588.png  \n",
      "  inflating: /content/drive/MyDrive/ML2022/ICME2022_Training_Dataset/labels_real_world/0589.png  \n",
      "  inflating: /content/drive/MyDrive/ML2022/ICME2022_Training_Dataset/labels_real_world/0590.png  \n",
      "  inflating: /content/drive/MyDrive/ML2022/ICME2022_Training_Dataset/labels_real_world/0591.png  \n",
      "  inflating: /content/drive/MyDrive/ML2022/ICME2022_Training_Dataset/labels_real_world/0592.png  \n",
      "  inflating: /content/drive/MyDrive/ML2022/ICME2022_Training_Dataset/labels_real_world/0593.png  \n",
      "  inflating: /content/drive/MyDrive/ML2022/ICME2022_Training_Dataset/labels_real_world/0594.png  \n",
      "  inflating: /content/drive/MyDrive/ML2022/ICME2022_Training_Dataset/labels_real_world/0595.png  \n",
      "  inflating: /content/drive/MyDrive/ML2022/ICME2022_Training_Dataset/labels_real_world/0596.png  \n",
      "  inflating: /content/drive/MyDrive/ML2022/ICME2022_Training_Dataset/labels_real_world/0597.png  \n",
      "  inflating: /content/drive/MyDrive/ML2022/ICME2022_Training_Dataset/labels_real_world/0598.png  \n",
      "  inflating: /content/drive/MyDrive/ML2022/ICME2022_Training_Dataset/labels_real_world/0599.png  \n",
      "  inflating: /content/drive/MyDrive/ML2022/ICME2022_Training_Dataset/labels_real_world/0600.png  \n",
      "  inflating: /content/drive/MyDrive/ML2022/ICME2022_Training_Dataset/labels_real_world/0601.png  \n",
      "  inflating: /content/drive/MyDrive/ML2022/ICME2022_Training_Dataset/labels_real_world/0602.png  \n",
      "  inflating: /content/drive/MyDrive/ML2022/ICME2022_Training_Dataset/labels_real_world/0603.png  \n",
      "  inflating: /content/drive/MyDrive/ML2022/ICME2022_Training_Dataset/labels_real_world/0604.png  \n",
      "  inflating: /content/drive/MyDrive/ML2022/ICME2022_Training_Dataset/labels_real_world/0605.png  \n",
      "  inflating: /content/drive/MyDrive/ML2022/ICME2022_Training_Dataset/labels_real_world/0606.png  \n",
      "  inflating: /content/drive/MyDrive/ML2022/ICME2022_Training_Dataset/labels_real_world/0607.png  \n",
      "  inflating: /content/drive/MyDrive/ML2022/ICME2022_Training_Dataset/labels_real_world/0608.png  \n",
      "  inflating: /content/drive/MyDrive/ML2022/ICME2022_Training_Dataset/labels_real_world/0609.png  \n",
      "  inflating: /content/drive/MyDrive/ML2022/ICME2022_Training_Dataset/labels_real_world/0610.png  \n",
      "  inflating: /content/drive/MyDrive/ML2022/ICME2022_Training_Dataset/labels_real_world/0611.png  \n",
      "  inflating: /content/drive/MyDrive/ML2022/ICME2022_Training_Dataset/labels_real_world/0612.png  \n",
      "  inflating: /content/drive/MyDrive/ML2022/ICME2022_Training_Dataset/labels_real_world/0613.png  \n",
      "  inflating: /content/drive/MyDrive/ML2022/ICME2022_Training_Dataset/labels_real_world/0614.png  \n",
      "  inflating: /content/drive/MyDrive/ML2022/ICME2022_Training_Dataset/labels_real_world/0615.png  \n",
      "  inflating: /content/drive/MyDrive/ML2022/ICME2022_Training_Dataset/labels_real_world/0616.png  \n",
      "  inflating: /content/drive/MyDrive/ML2022/ICME2022_Training_Dataset/labels_real_world/0617.png  \n",
      "  inflating: /content/drive/MyDrive/ML2022/ICME2022_Training_Dataset/labels_real_world/0618.png  \n",
      "  inflating: /content/drive/MyDrive/ML2022/ICME2022_Training_Dataset/labels_real_world/0619.png  \n",
      "  inflating: /content/drive/MyDrive/ML2022/ICME2022_Training_Dataset/labels_real_world/0620.png  \n",
      "  inflating: /content/drive/MyDrive/ML2022/ICME2022_Training_Dataset/labels_real_world/0621.png  \n",
      "  inflating: /content/drive/MyDrive/ML2022/ICME2022_Training_Dataset/labels_real_world/0622.png  \n",
      "  inflating: /content/drive/MyDrive/ML2022/ICME2022_Training_Dataset/labels_real_world/0623.png  \n",
      "  inflating: /content/drive/MyDrive/ML2022/ICME2022_Training_Dataset/labels_real_world/0624.png  \n",
      "  inflating: /content/drive/MyDrive/ML2022/ICME2022_Training_Dataset/labels_real_world/0625.png  \n",
      "  inflating: /content/drive/MyDrive/ML2022/ICME2022_Training_Dataset/labels_real_world/0626.png  \n",
      "  inflating: /content/drive/MyDrive/ML2022/ICME2022_Training_Dataset/labels_real_world/0627.png  \n",
      "  inflating: /content/drive/MyDrive/ML2022/ICME2022_Training_Dataset/labels_real_world/0628.png  \n",
      "  inflating: /content/drive/MyDrive/ML2022/ICME2022_Training_Dataset/labels_real_world/0629.png  \n",
      "  inflating: /content/drive/MyDrive/ML2022/ICME2022_Training_Dataset/labels_real_world/0630.png  \n"
     ]
    }
   ],
   "source": [
    "!unzip /content/drive/MyDrive/ML2022/ICME2022_Training_Dataset_update.zip -d /content/drive/MyDrive/ML2022/"
   ]
  },
  {
   "cell_type": "code",
   "execution_count": null,
   "metadata": {
    "colab": {
     "base_uri": "https://localhost:8080/"
    },
    "id": "uVSXsoBUvqCn",
    "outputId": "6f2b78f3-63a8-4da9-f38e-219e9c7d2849"
   },
   "outputs": [
    {
     "name": "stdout",
     "output_type": "stream",
     "text": [
      "Collecting tensorflow-gpu==1.15\n",
      "  Downloading tensorflow_gpu-1.15.0-cp37-cp37m-manylinux2010_x86_64.whl (411.5 MB)\n",
      "\u001b[K     |████████████████████████████████| 411.5 MB 8.0 kB/s \n",
      "\u001b[?25hRequirement already satisfied: absl-py>=0.7.0 in /usr/local/lib/python3.7/dist-packages (from tensorflow-gpu==1.15) (1.0.0)\n",
      "Collecting gast==0.2.2\n",
      "  Downloading gast-0.2.2.tar.gz (10 kB)\n",
      "Collecting keras-applications>=1.0.8\n",
      "  Downloading Keras_Applications-1.0.8-py3-none-any.whl (50 kB)\n",
      "\u001b[K     |████████████████████████████████| 50 kB 7.9 MB/s \n",
      "\u001b[?25hRequirement already satisfied: six>=1.10.0 in /usr/local/lib/python3.7/dist-packages (from tensorflow-gpu==1.15) (1.15.0)\n",
      "Requirement already satisfied: wrapt>=1.11.1 in /usr/local/lib/python3.7/dist-packages (from tensorflow-gpu==1.15) (1.14.1)\n",
      "Collecting tensorboard<1.16.0,>=1.15.0\n",
      "  Downloading tensorboard-1.15.0-py3-none-any.whl (3.8 MB)\n",
      "\u001b[K     |████████████████████████████████| 3.8 MB 55.6 MB/s \n",
      "\u001b[?25hRequirement already satisfied: numpy<2.0,>=1.16.0 in /usr/local/lib/python3.7/dist-packages (from tensorflow-gpu==1.15) (1.21.6)\n",
      "Requirement already satisfied: termcolor>=1.1.0 in /usr/local/lib/python3.7/dist-packages (from tensorflow-gpu==1.15) (1.1.0)\n",
      "Requirement already satisfied: keras-preprocessing>=1.0.5 in /usr/local/lib/python3.7/dist-packages (from tensorflow-gpu==1.15) (1.1.2)\n",
      "Requirement already satisfied: protobuf>=3.6.1 in /usr/local/lib/python3.7/dist-packages (from tensorflow-gpu==1.15) (3.17.3)\n",
      "Requirement already satisfied: wheel>=0.26 in /usr/local/lib/python3.7/dist-packages (from tensorflow-gpu==1.15) (0.37.1)\n",
      "Requirement already satisfied: google-pasta>=0.1.6 in /usr/local/lib/python3.7/dist-packages (from tensorflow-gpu==1.15) (0.2.0)\n",
      "Collecting tensorflow-estimator==1.15.1\n",
      "  Downloading tensorflow_estimator-1.15.1-py2.py3-none-any.whl (503 kB)\n",
      "\u001b[K     |████████████████████████████████| 503 kB 67.5 MB/s \n",
      "\u001b[?25hRequirement already satisfied: astor>=0.6.0 in /usr/local/lib/python3.7/dist-packages (from tensorflow-gpu==1.15) (0.8.1)\n",
      "Requirement already satisfied: grpcio>=1.8.6 in /usr/local/lib/python3.7/dist-packages (from tensorflow-gpu==1.15) (1.46.1)\n",
      "Requirement already satisfied: opt-einsum>=2.3.2 in /usr/local/lib/python3.7/dist-packages (from tensorflow-gpu==1.15) (3.3.0)\n",
      "Requirement already satisfied: h5py in /usr/local/lib/python3.7/dist-packages (from keras-applications>=1.0.8->tensorflow-gpu==1.15) (3.1.0)\n",
      "Requirement already satisfied: markdown>=2.6.8 in /usr/local/lib/python3.7/dist-packages (from tensorboard<1.16.0,>=1.15.0->tensorflow-gpu==1.15) (3.3.7)\n",
      "Requirement already satisfied: setuptools>=41.0.0 in /usr/local/lib/python3.7/dist-packages (from tensorboard<1.16.0,>=1.15.0->tensorflow-gpu==1.15) (57.4.0)\n",
      "Requirement already satisfied: werkzeug>=0.11.15 in /usr/local/lib/python3.7/dist-packages (from tensorboard<1.16.0,>=1.15.0->tensorflow-gpu==1.15) (1.0.1)\n",
      "Requirement already satisfied: importlib-metadata>=4.4 in /usr/local/lib/python3.7/dist-packages (from markdown>=2.6.8->tensorboard<1.16.0,>=1.15.0->tensorflow-gpu==1.15) (4.11.3)\n",
      "Requirement already satisfied: zipp>=0.5 in /usr/local/lib/python3.7/dist-packages (from importlib-metadata>=4.4->markdown>=2.6.8->tensorboard<1.16.0,>=1.15.0->tensorflow-gpu==1.15) (3.8.0)\n",
      "Requirement already satisfied: typing-extensions>=3.6.4 in /usr/local/lib/python3.7/dist-packages (from importlib-metadata>=4.4->markdown>=2.6.8->tensorboard<1.16.0,>=1.15.0->tensorflow-gpu==1.15) (4.2.0)\n",
      "Requirement already satisfied: cached-property in /usr/local/lib/python3.7/dist-packages (from h5py->keras-applications>=1.0.8->tensorflow-gpu==1.15) (1.5.2)\n",
      "Building wheels for collected packages: gast\n",
      "  Building wheel for gast (setup.py) ... \u001b[?25l\u001b[?25hdone\n",
      "  Created wheel for gast: filename=gast-0.2.2-py3-none-any.whl size=7554 sha256=4f33c467e38bc0a6deb92a3c3df5994444d104f56be5f3d39a26793274b4862c\n",
      "  Stored in directory: /root/.cache/pip/wheels/21/7f/02/420f32a803f7d0967b48dd823da3f558c5166991bfd204eef3\n",
      "Successfully built gast\n",
      "Installing collected packages: tensorflow-estimator, tensorboard, keras-applications, gast, tensorflow-gpu\n",
      "  Attempting uninstall: tensorflow-estimator\n",
      "    Found existing installation: tensorflow-estimator 2.8.0\n",
      "    Uninstalling tensorflow-estimator-2.8.0:\n",
      "      Successfully uninstalled tensorflow-estimator-2.8.0\n",
      "  Attempting uninstall: tensorboard\n",
      "    Found existing installation: tensorboard 2.8.0\n",
      "    Uninstalling tensorboard-2.8.0:\n",
      "      Successfully uninstalled tensorboard-2.8.0\n",
      "  Attempting uninstall: gast\n",
      "    Found existing installation: gast 0.5.3\n",
      "    Uninstalling gast-0.5.3:\n",
      "      Successfully uninstalled gast-0.5.3\n",
      "\u001b[31mERROR: pip's dependency resolver does not currently take into account all the packages that are installed. This behaviour is the source of the following dependency conflicts.\n",
      "tensorflow 2.8.0+zzzcolab20220506162203 requires tf-estimator-nightly==2.8.0.dev2021122109, which is not installed.\n",
      "tensorflow 2.8.0+zzzcolab20220506162203 requires tensorboard<2.9,>=2.8, but you have tensorboard 1.15.0 which is incompatible.\n",
      "tensorflow-probability 0.16.0 requires gast>=0.3.2, but you have gast 0.2.2 which is incompatible.\u001b[0m\n",
      "Successfully installed gast-0.2.2 keras-applications-1.0.8 tensorboard-1.15.0 tensorflow-estimator-1.15.1 tensorflow-gpu-1.15.0\n"
     ]
    }
   ],
   "source": [
    "!pip install tensorflow-gpu==1.15"
   ]
  },
  {
   "cell_type": "code",
   "execution_count": null,
   "metadata": {
    "id": "qYWqXsnFxaEn"
   },
   "outputs": [],
   "source": [
    "import cv2\n",
    "import matplotlib.pyplot as plt\n",
    "import random\n",
    "import os\n",
    "import numpy as np\n",
    "import tensorflow as tf\n",
    "\n",
    "from pathlib import Path"
   ]
  },
  {
   "cell_type": "markdown",
   "metadata": {
    "id": "S_GndcG7I3rv"
   },
   "source": [
    "# Confirm your TF version"
   ]
  },
  {
   "cell_type": "code",
   "execution_count": null,
   "metadata": {
    "colab": {
     "base_uri": "https://localhost:8080/"
    },
    "id": "vlT7Dx3Oxkyu",
    "outputId": "02c38ea4-7cb6-4681-e87a-8b25b15e2e21"
   },
   "outputs": [
    {
     "name": "stdout",
     "output_type": "stream",
     "text": [
      "Tensorflow Version is 1.15.0\n"
     ]
    }
   ],
   "source": [
    "print(\"Tensorflow Version is %s\" % tf.__version__)"
   ]
  },
  {
   "cell_type": "markdown",
   "metadata": {
    "id": "afCk4xOUUsKc"
   },
   "source": [
    "# **FIXME#1**\n",
    "\n",
    "1.   Read your model.pb and set your input and output node name.\n",
    "2.   use converter to conver your model.pb into model.tflite\n",
    "\n"
   ]
  },
  {
   "cell_type": "code",
   "execution_count": null,
   "metadata": {
    "colab": {
     "base_uri": "https://localhost:8080/"
    },
    "id": "mFBxh37Kx1v_",
    "outputId": "064576d6-0422-4e89-e6c7-bebcbca766a9"
   },
   "outputs": [
    {
     "data": {
      "text/plain": [
       "16622248"
      ]
     },
     "execution_count": 17,
     "metadata": {},
     "output_type": "execute_result"
    }
   ],
   "source": [
    "converter = tf.lite.TFLiteConverter.from_frozen_graph(\n",
    "    graph_def_file = '/content/drive/MyDrive/ML2022/lab1/MediaTek_IEE5725_Machine_Learning_Lab1/lab1_model.pb',\n",
    "    input_arrays = ['Placeholder'],\n",
    "    input_shapes = {'Placeholder':[1, 1080, 1920, 3]},\n",
    "    output_arrays = ['ArgMax'],\n",
    ")\n",
    "tflite_model = converter.convert()\n",
    "open('/content/drive/MyDrive/ML2022/lab1/MediaTek_IEE5725_Machine_Learning_Lab1/lab1_model.tflite', 'wb').write(tflite_model)"
   ]
  },
  {
   "cell_type": "markdown",
   "metadata": {
    "id": "ljS6VqcQVLY9"
   },
   "source": [
    "# Prepare your inference image."
   ]
  },
  {
   "cell_type": "code",
   "execution_count": null,
   "metadata": {
    "colab": {
     "base_uri": "https://localhost:8080/",
     "height": 257
    },
    "id": "1D15b_Kwyj1o",
    "outputId": "8492b264-c3e3-4607-e07e-e6f826ceadac"
   },
   "outputs": [
    {
     "data": {
      "text/plain": [
       "<matplotlib.image.AxesImage at 0x7f77c9115d90>"
      ]
     },
     "execution_count": 23,
     "metadata": {},
     "output_type": "execute_result"
    },
    {
     "data": {
      "image/png": "[encoded data removed]",
      "text/plain": [
       "<Figure size 432x288 with 1 Axes>"
      ]
     },
     "metadata": {
      "needs_background": "light"
     },
     "output_type": "display_data"
    }
   ],
   "source": [
    "img = cv2.imread('/content/drive/MyDrive/ML2022/lab3/MediaTek_IEE5725_Machine_Learning_Lab3/Testing_Data_for_Qualification/0002.jpg')\n",
    "plt.imshow(img)"
   ]
  },
  {
   "cell_type": "markdown",
   "metadata": {
    "id": "GSJsXpc_VR9Y"
   },
   "source": [
    "# Set data type according to your model input type."
   ]
  },
  {
   "cell_type": "code",
   "execution_count": null,
   "metadata": {
    "id": "k03h938DDPkg"
   },
   "outputs": [],
   "source": [
    "img = np.expand_dims(img,0)\n",
    "img = img.astype(np.float32)"
   ]
  },
  {
   "cell_type": "markdown",
   "metadata": {
    "id": "iPtwNIuhWWCJ"
   },
   "source": [
    "# **FIXME#2**\n",
    "Import your tflie model and set input and output"
   ]
  },
  {
   "cell_type": "code",
   "execution_count": null,
   "metadata": {
    "id": "m65xM4-i2xAY"
   },
   "outputs": [],
   "source": [
    "interpreter = tf.lite.Interpreter('/content/drive/MyDrive/ML2022/lab1/MediaTek_IEE5725_Machine_Learning_Lab1/lab1_model.tflite')\n",
    "interpreter.allocate_tensors()\n",
    "input_details = interpreter.get_input_details()\n",
    "output_details = interpreter.get_output_details()"
   ]
  },
  {
   "cell_type": "markdown",
   "metadata": {
    "id": "XTRi8eVnWfIu"
   },
   "source": [
    "Inference your prepared image and get output."
   ]
  },
  {
   "cell_type": "code",
   "execution_count": null,
   "metadata": {
    "id": "NpkFR_7N29Hn"
   },
   "outputs": [],
   "source": [
    "interpreter.set_tensor(input_details[0]['index'], img)\n",
    "interpreter.invoke()\n",
    "output = interpreter.get_tensor(output_details[0]['index'])"
   ]
  },
  {
   "cell_type": "markdown",
   "metadata": {
    "id": "fIbplX-QWlDL"
   },
   "source": [
    "# Show your inference result."
   ]
  },
  {
   "cell_type": "code",
   "execution_count": null,
   "metadata": {
    "colab": {
     "base_uri": "https://localhost:8080/",
     "height": 257
    },
    "id": "zl6THAfq25lA",
    "outputId": "cb42ae34-c1fd-4539-d3dd-aaa5c66efeee"
   },
   "outputs": [
    {
     "data": {
      "text/plain": [
       "<matplotlib.image.AxesImage at 0x7f77c9141b90>"
      ]
     },
     "execution_count": 28,
     "metadata": {},
     "output_type": "execute_result"
    },
    {
     "data": {
      "image/png": "[encoded data removed]",
      "text/plain": [
       "<Figure size 432x288 with 1 Axes>"
      ]
     },
     "metadata": {
      "needs_background": "light"
     },
     "output_type": "display_data"
    }
   ],
   "source": [
    "plt.imshow(output[0])"
   ]
  },
  {
   "cell_type": "markdown",
   "metadata": {
    "id": "nf9Eg5FjWpmB"
   },
   "source": [
    "# Run your model on real device."
   ]
  },
  {
   "cell_type": "code",
   "execution_count": null,
   "metadata": {
    "id": "MSSb7SRR65kf"
   },
   "outputs": [],
   "source": []
  },
  {
   "cell_type": "markdown",
   "metadata": {
    "id": "k417Mj7S72kI"
   },
   "source": [
    "## Lab#2"
   ]
  },
  {
   "cell_type": "markdown",
   "metadata": {
    "id": "1cUfqVqKIYXp"
   },
   "source": [
    "# **FIXME#1**\n",
    "Preparing your calibration data"
   ]
  },
  {
   "cell_type": "code",
   "execution_count": null,
   "metadata": {
    "id": "81EvR7qeH2dJ"
   },
   "outputs": [],
   "source": [
    "def representative_dataset():\n",
    "  for data in Path('/content/drive/MyDrive/ML2022/lab3/MediaTek_IEE5725_Machine_Learning_Lab3/Testing_Data_for_Qualification/').glob('*.jpg'):\n",
    "    img = cv2.imread(str(data))\n",
    "    img = np.expand_dims(img,0)\n",
    "    img = img.astype(np.float32)\n",
    "    yield [img]\n"
   ]
  },
  {
   "cell_type": "markdown",
   "metadata": {
    "id": "eNoUDFGWIiNa"
   },
   "source": [
    "# **FIXME#2** \n",
    "Preparing your FP32 model (Please refer to Lab#1) and do post training quantization by NN API (https://www.tensorflow.org/lite/performance/post_training_quantization)\n",
    "> the compiling time depends the number of calibration images\n",
    "\n"
   ]
  },
  {
   "cell_type": "code",
   "execution_count": null,
   "metadata": {
    "colab": {
     "base_uri": "https://localhost:8080/"
    },
    "id": "CyK_rd1N71vb",
    "outputId": "0d9f2aa6-c19f-4156-eee0-8239f961f119"
   },
   "outputs": [
    {
     "data": {
      "text/plain": [
       "4222856"
      ]
     },
     "execution_count": 35,
     "metadata": {},
     "output_type": "execute_result"
    }
   ],
   "source": [
    "converter = tf.lite.TFLiteConverter.from_frozen_graph(\n",
    "    graph_def_file = '/content/drive/MyDrive/ML2022/lab2/MediaTek_IEE5725_Machine_Learning_Lab2/lab2_model.pb',\n",
    "    input_arrays = ['Placeholder'],\n",
    "    input_shapes = {'Placeholder':[1, 1080, 1920, 3]},\n",
    "    output_arrays = ['ArgMax'],\n",
    ")\n",
    "converter.optimizations = [tf.lite.Optimize.DEFAULT]\n",
    "converter.representative_dataset = representative_dataset\n",
    "tflite_model = converter.convert()\n",
    "open('/content/drive/MyDrive/ML2022/lab2/MediaTek_IEE5725_Machine_Learning_Lab2/lab2_quantized_model.tflite', 'wb').write(tflite_model)"
   ]
  },
  {
   "cell_type": "markdown",
   "metadata": {
    "id": "TMgnOBQi9nAY"
   },
   "source": [
    "## Lab#3"
   ]
  },
  {
   "cell_type": "code",
   "execution_count": null,
   "metadata": {
    "id": "LR7Le7nE9yBL"
   },
   "outputs": [],
   "source": [
    "import cv2\n",
    "import matplotlib.pyplot as plt\n",
    "import random\n",
    "import torch\n",
    "import torch.utils.data as data\n",
    "import torchvision.transforms as transforms\n",
    "import glob\n",
    "import torch.nn as nn\n",
    "import torch.nn.functional as F\n",
    "import os\n",
    "import numpy as np\n",
    "import tensorflow as tf\n",
    "\n",
    "from pathlib import Path\n",
    "from tensorflow.python.framework.graph_util import convert_variables_to_constants"
   ]
  },
  {
   "cell_type": "markdown",
   "metadata": {
    "id": "0aXmyhz2X4WZ"
   },
   "source": [
    "# Data Process"
   ]
  },
  {
   "cell_type": "code",
   "execution_count": null,
   "metadata": {
    "id": "BWvfYyqDlsZt"
   },
   "outputs": [],
   "source": [
    "class DataLoaderSegmentation(data.Dataset):\n",
    "    def __init__(self, input_path,label_path,label_name='',transform=None):\n",
    "        super(DataLoaderSegmentation, self).__init__()\n",
    "        self.img_files = glob.glob(os.path.join(input_path,'*.jpg'))\n",
    "        self.mask_files = []\n",
    "        self.transforms = transform\n",
    "        for img_path in self.img_files:\n",
    "             self.mask_files.append(os.path.join(label_path,os.path.basename(img_path).split('.')[0]+label_name+'.png'))\n",
    "\n",
    "    def __getitem__(self, index):\n",
    "            img_path = self.img_files[index]\n",
    "            mask_path = self.mask_files[index]\n",
    "            data = cv2.imread(img_path)\n",
    "            label = cv2.imread(mask_path,cv2.IMREAD_GRAYSCALE)\n",
    "            label = F.one_hot(torch.from_numpy(label).to(torch.int64),6)\n",
    "            datalabel = np.concatenate((data,label),axis=2)\n",
    "            datalabel = np.transpose(datalabel,[2,0,1])\n",
    "            if self.transforms!=None:\n",
    "              datalabel = self.transforms(torch.from_numpy(datalabel).float())\n",
    "            datalabel = np.transpose(datalabel,[1,2,0])\n",
    "            data = datalabel[:,:,0:3]\n",
    "            label = datalabel[:,:,3:9]\n",
    "            return data,label\n",
    "\n",
    "    def __len__(self):\n",
    "        return len(self.img_files)"
   ]
  },
  {
   "cell_type": "markdown",
   "metadata": {
    "id": "vi19_O3uYHP_"
   },
   "source": [
    "# Prepare Training dataset"
   ]
  },
  {
   "cell_type": "code",
   "execution_count": null,
   "metadata": {
    "id": "ZhkET9cBlw70"
   },
   "outputs": [],
   "source": [
    "input_path='/content/drive/MyDrive/ML2022/ICME2022_Training_Dataset/images'#720/1280\n",
    "label_path='/content/drive/MyDrive/ML2022/ICME2022_Training_Dataset/labels/class_labels'\n",
    "dataset = DataLoaderSegmentation(input_path,label_path,'_lane_line_label_id',transforms.Resize(size=(720,1280)))\n",
    "dataloader = torch.utils.data.DataLoader(dataset, batch_size=25, shuffle=True)"
   ]
  },
  {
   "cell_type": "code",
   "execution_count": null,
   "metadata": {
    "id": "PDEOaygmlzR8"
   },
   "outputs": [],
   "source": [
    "input_path='/content/drive/MyDrive/ML2022/ICME2022_Training_Dataset/images_real_world'#1080/1920\n",
    "label_path='/content/drive/MyDrive/ML2022/ICME2022_Training_Dataset/labels_real_world'\n",
    "dataset_real = DataLoaderSegmentation(input_path,label_path,'',transforms.Resize(size=(1080,1920)))\n",
    "dataloader_real = torch.utils.data.DataLoader(dataset_real, batch_size=25, shuffle=True)"
   ]
  },
  {
   "cell_type": "markdown",
   "metadata": {
    "id": "qItXMlU_YVGD"
   },
   "source": [
    "# FIXME#1 Design the Network\n",
    "*   input size = 256*256\n",
    "*   Channel = 15 and Depth = 5\n",
    "*   backbone: conv2d+BN+Relu\n",
    "*   output size = 1080*1920\n",
    "\n",
    "\n",
    "\n"
   ]
  },
  {
   "cell_type": "code",
   "execution_count": null,
   "metadata": {
    "colab": {
     "base_uri": "https://localhost:8080/"
    },
    "id": "bYqu_CSMm3nU",
    "outputId": "4443559f-453b-4851-cafa-0060d5255a22"
   },
   "outputs": [
    {
     "name": "stdout",
     "output_type": "stream",
     "text": [
      "WARNING:tensorflow:From <ipython-input-42-9ee8e411a547>:10: conv2d (from tensorflow.python.layers.convolutional) is deprecated and will be removed in a future version.\n",
      "Instructions for updating:\n",
      "Use `tf.keras.layers.Conv2D` instead.\n",
      "WARNING:tensorflow:From /usr/local/lib/python3.7/dist-packages/tensorflow_core/python/layers/convolutional.py:424: Layer.apply (from tensorflow.python.keras.engine.base_layer) is deprecated and will be removed in a future version.\n",
      "Instructions for updating:\n",
      "Please use `layer.__call__` method instead.\n",
      "WARNING:tensorflow:From <ipython-input-42-9ee8e411a547>:11: batch_normalization (from tensorflow.python.layers.normalization) is deprecated and will be removed in a future version.\n",
      "Instructions for updating:\n",
      "Use keras.layers.BatchNormalization instead.  In particular, `tf.control_dependencies(tf.GraphKeys.UPDATE_OPS)` should not be used (consult the `tf.keras.layers.batch_normalization` documentation).\n"
     ]
    }
   ],
   "source": [
    "inputs = tf.placeholder(tf.float32,shape=(None,None, None, 3))\n",
    "y_ = tf.placeholder(tf.float32, [None,None, None,6])\n",
    "x = tf.image.resize_images(inputs, (256, 256))\n",
    "x = x/255.0\n",
    "y = tf.image.resize_images(y_, (256, 256))\n",
    "ch = 15 #channel\n",
    "depth = 5 #depth\n",
    "xn = []\n",
    "b = tf.Variable(0.0)\n",
    "x = tf.layers.conv2d(x,ch,3,1,'same')\n",
    "x = tf.layers.batch_normalization(x)\n",
    "x = tf.nn.relu(x)\n",
    "for i in range(depth):\n",
    "  xn.append(x)\n",
    "  x = tf.layers.conv2d(x,ch*(2**(i+1)),3,1,'same')\n",
    "  x = tf.layers.batch_normalization(x,center=False,scale=False)+b\n",
    "  x = tf.nn.relu(x)\n",
    "  x = tf.layers.conv2d(x,ch*(2**(i+1)),3,1,'same')\n",
    "  x = tf.layers.batch_normalization(x,center=False,scale=False)+b\n",
    "  x = tf.nn.relu(x)\n",
    "  if i <depth-1:\n",
    "    x = tf.nn.avg_pool(x,[1,2,2,1],[1,2,2,1],'SAME')\n",
    "for i in range(depth):\n",
    "  if i>0:\n",
    "    x = tf.keras.layers.UpSampling2D((2,2))(x)\n",
    "  x = tf.layers.conv2d(x,ch*(2**(depth-i-1)),3,1,'same')+xn[-i-1]\n",
    "  x = tf.layers.batch_normalization(x,center=False,scale=False)+b\n",
    "  x = tf.nn.relu(x)\n",
    "out = tf.layers.conv2d(x,6,3,1,'same')\n",
    "outputs = out\n",
    "outputs = tf.image.resize_images(outputs, (1080, 1920))\n",
    "outputs = tf.argmax(outputs,-1)"
   ]
  },
  {
   "cell_type": "markdown",
   "metadata": {
    "id": "NIt45GStZDYa"
   },
   "source": [
    "# Set up the Hyper parameters"
   ]
  },
  {
   "cell_type": "code",
   "execution_count": null,
   "metadata": {
    "id": "kAt4UkohnD6u"
   },
   "outputs": [],
   "source": [
    "loss=tf.nn.softmax_cross_entropy_with_logits_v2(logits=out,labels=y)\n",
    "loss=tf.reduce_mean(loss)\n",
    "optimizer = tf.train.AdamOptimizer(learning_rate = 0.00001)\n",
    "train = optimizer.minimize(loss+0.0005*b)\n",
    "saver=tf.train.Saver()\n",
    "init = tf.global_variables_initializer()"
   ]
  },
  {
   "cell_type": "markdown",
   "metadata": {
    "id": "lPp19muOZQIV"
   },
   "source": [
    "# Sesstion run and restore Checkpoint"
   ]
  },
  {
   "cell_type": "code",
   "execution_count": null,
   "metadata": {
    "colab": {
     "base_uri": "https://localhost:8080/",
     "height": 1000
    },
    "id": "_Li-XS6_nIUM",
    "outputId": "f97dba5e-aaac-4809-9dba-ad56f08bae6a"
   },
   "outputs": [
    {
     "name": "stdout",
     "output_type": "stream",
     "text": [
      "INFO:tensorflow:Restoring parameters from /content/drive/MyDrive/ML2022/lab3/MediaTek_IEE5725_Machine_Learning_Lab3/model/\n"
     ]
    },
    {
     "ename": "InvalidArgumentError",
     "evalue": "ignored",
     "output_type": "error",
     "traceback": [
      "\u001b[0;31m---------------------------------------------------------------------------\u001b[0m",
      "\u001b[0;31mInvalidArgumentError\u001b[0m                      Traceback (most recent call last)",
      "\u001b[0;32m/usr/local/lib/python3.7/dist-packages/tensorflow_core/python/client/session.py\u001b[0m in \u001b[0;36m_do_call\u001b[0;34m(self, fn, *args)\u001b[0m\n\u001b[1;32m   1364\u001b[0m     \u001b[0;32mtry\u001b[0m\u001b[0;34m:\u001b[0m\u001b[0;34m\u001b[0m\u001b[0;34m\u001b[0m\u001b[0m\n\u001b[0;32m-> 1365\u001b[0;31m       \u001b[0;32mreturn\u001b[0m \u001b[0mfn\u001b[0m\u001b[0;34m(\u001b[0m\u001b[0;34m*\u001b[0m\u001b[0margs\u001b[0m\u001b[0;34m)\u001b[0m\u001b[0;34m\u001b[0m\u001b[0;34m\u001b[0m\u001b[0m\n\u001b[0m\u001b[1;32m   1366\u001b[0m     \u001b[0;32mexcept\u001b[0m \u001b[0merrors\u001b[0m\u001b[0;34m.\u001b[0m\u001b[0mOpError\u001b[0m \u001b[0;32mas\u001b[0m \u001b[0me\u001b[0m\u001b[0;34m:\u001b[0m\u001b[0;34m\u001b[0m\u001b[0;34m\u001b[0m\u001b[0m\n",
      "\u001b[0;32m/usr/local/lib/python3.7/dist-packages/tensorflow_core/python/client/session.py\u001b[0m in \u001b[0;36m_run_fn\u001b[0;34m(feed_dict, fetch_list, target_list, options, run_metadata)\u001b[0m\n\u001b[1;32m   1349\u001b[0m       return self._call_tf_sessionrun(options, feed_dict, fetch_list,\n\u001b[0;32m-> 1350\u001b[0;31m                                       target_list, run_metadata)\n\u001b[0m\u001b[1;32m   1351\u001b[0m \u001b[0;34m\u001b[0m\u001b[0m\n",
      "\u001b[0;32m/usr/local/lib/python3.7/dist-packages/tensorflow_core/python/client/session.py\u001b[0m in \u001b[0;36m_call_tf_sessionrun\u001b[0;34m(self, options, feed_dict, fetch_list, target_list, run_metadata)\u001b[0m\n\u001b[1;32m   1442\u001b[0m                                             \u001b[0mfetch_list\u001b[0m\u001b[0;34m,\u001b[0m \u001b[0mtarget_list\u001b[0m\u001b[0;34m,\u001b[0m\u001b[0;34m\u001b[0m\u001b[0;34m\u001b[0m\u001b[0m\n\u001b[0;32m-> 1443\u001b[0;31m                                             run_metadata)\n\u001b[0m\u001b[1;32m   1444\u001b[0m \u001b[0;34m\u001b[0m\u001b[0m\n",
      "\u001b[0;31mInvalidArgumentError\u001b[0m: 2 root error(s) found.\n  (0) Invalid argument: Assign requires shapes of both tensors to match. lhs shape= [3,3,60,120] rhs shape= [3,3,52,104]\n\t [[{{node save/Assign_119}}]]\n\t [[save/RestoreV2/_212]]\n  (1) Invalid argument: Assign requires shapes of both tensors to match. lhs shape= [3,3,60,120] rhs shape= [3,3,52,104]\n\t [[{{node save/Assign_119}}]]\n0 successful operations.\n0 derived errors ignored.",
      "\nDuring handling of the above exception, another exception occurred:\n",
      "\u001b[0;31mInvalidArgumentError\u001b[0m                      Traceback (most recent call last)",
      "\u001b[0;32m/usr/local/lib/python3.7/dist-packages/tensorflow_core/python/training/saver.py\u001b[0m in \u001b[0;36mrestore\u001b[0;34m(self, sess, save_path)\u001b[0m\n\u001b[1;32m   1289\u001b[0m         sess.run(self.saver_def.restore_op_name,\n\u001b[0;32m-> 1290\u001b[0;31m                  {self.saver_def.filename_tensor_name: save_path})\n\u001b[0m\u001b[1;32m   1291\u001b[0m     \u001b[0;32mexcept\u001b[0m \u001b[0merrors\u001b[0m\u001b[0;34m.\u001b[0m\u001b[0mNotFoundError\u001b[0m \u001b[0;32mas\u001b[0m \u001b[0merr\u001b[0m\u001b[0;34m:\u001b[0m\u001b[0;34m\u001b[0m\u001b[0;34m\u001b[0m\u001b[0m\n",
      "\u001b[0;32m/usr/local/lib/python3.7/dist-packages/tensorflow_core/python/client/session.py\u001b[0m in \u001b[0;36mrun\u001b[0;34m(self, fetches, feed_dict, options, run_metadata)\u001b[0m\n\u001b[1;32m    955\u001b[0m       result = self._run(None, fetches, feed_dict, options_ptr,\n\u001b[0;32m--> 956\u001b[0;31m                          run_metadata_ptr)\n\u001b[0m\u001b[1;32m    957\u001b[0m       \u001b[0;32mif\u001b[0m \u001b[0mrun_metadata\u001b[0m\u001b[0;34m:\u001b[0m\u001b[0;34m\u001b[0m\u001b[0;34m\u001b[0m\u001b[0m\n",
      "\u001b[0;32m/usr/local/lib/python3.7/dist-packages/tensorflow_core/python/client/session.py\u001b[0m in \u001b[0;36m_run\u001b[0;34m(self, handle, fetches, feed_dict, options, run_metadata)\u001b[0m\n\u001b[1;32m   1179\u001b[0m       results = self._do_run(handle, final_targets, final_fetches,\n\u001b[0;32m-> 1180\u001b[0;31m                              feed_dict_tensor, options, run_metadata)\n\u001b[0m\u001b[1;32m   1181\u001b[0m     \u001b[0;32melse\u001b[0m\u001b[0;34m:\u001b[0m\u001b[0;34m\u001b[0m\u001b[0;34m\u001b[0m\u001b[0m\n",
      "\u001b[0;32m/usr/local/lib/python3.7/dist-packages/tensorflow_core/python/client/session.py\u001b[0m in \u001b[0;36m_do_run\u001b[0;34m(self, handle, target_list, fetch_list, feed_dict, options, run_metadata)\u001b[0m\n\u001b[1;32m   1358\u001b[0m       return self._do_call(_run_fn, feeds, fetches, targets, options,\n\u001b[0;32m-> 1359\u001b[0;31m                            run_metadata)\n\u001b[0m\u001b[1;32m   1360\u001b[0m     \u001b[0;32melse\u001b[0m\u001b[0;34m:\u001b[0m\u001b[0;34m\u001b[0m\u001b[0;34m\u001b[0m\u001b[0m\n",
      "\u001b[0;32m/usr/local/lib/python3.7/dist-packages/tensorflow_core/python/client/session.py\u001b[0m in \u001b[0;36m_do_call\u001b[0;34m(self, fn, *args)\u001b[0m\n\u001b[1;32m   1383\u001b[0m                     'disable_meta_optimizer = True')\n\u001b[0;32m-> 1384\u001b[0;31m       \u001b[0;32mraise\u001b[0m \u001b[0mtype\u001b[0m\u001b[0;34m(\u001b[0m\u001b[0me\u001b[0m\u001b[0;34m)\u001b[0m\u001b[0;34m(\u001b[0m\u001b[0mnode_def\u001b[0m\u001b[0;34m,\u001b[0m \u001b[0mop\u001b[0m\u001b[0;34m,\u001b[0m \u001b[0mmessage\u001b[0m\u001b[0;34m)\u001b[0m\u001b[0;34m\u001b[0m\u001b[0;34m\u001b[0m\u001b[0m\n\u001b[0m\u001b[1;32m   1385\u001b[0m \u001b[0;34m\u001b[0m\u001b[0m\n",
      "\u001b[0;31mInvalidArgumentError\u001b[0m: 2 root error(s) found.\n  (0) Invalid argument: Assign requires shapes of both tensors to match. lhs shape= [3,3,60,120] rhs shape= [3,3,52,104]\n\t [[node save/Assign_119 (defined at /usr/local/lib/python3.7/dist-packages/tensorflow_core/python/framework/ops.py:1748) ]]\n\t [[save/RestoreV2/_212]]\n  (1) Invalid argument: Assign requires shapes of both tensors to match. lhs shape= [3,3,60,120] rhs shape= [3,3,52,104]\n\t [[node save/Assign_119 (defined at /usr/local/lib/python3.7/dist-packages/tensorflow_core/python/framework/ops.py:1748) ]]\n0 successful operations.\n0 derived errors ignored.\n\nOriginal stack trace for 'save/Assign_119':\n  File \"/usr/lib/python3.7/runpy.py\", line 193, in _run_module_as_main\n    \"__main__\", mod_spec)\n  File \"/usr/lib/python3.7/runpy.py\", line 85, in _run_code\n    exec(code, run_globals)\n  File \"/usr/local/lib/python3.7/dist-packages/ipykernel_launcher.py\", line 16, in <module>\n    app.launch_new_instance()\n  File \"/usr/local/lib/python3.7/dist-packages/traitlets/config/application.py\", line 846, in launch_instance\n    app.start()\n  File \"/usr/local/lib/python3.7/dist-packages/ipykernel/kernelapp.py\", line 499, in start\n    self.io_loop.start()\n  File \"/usr/local/lib/python3.7/dist-packages/tornado/platform/asyncio.py\", line 132, in start\n    self.asyncio_loop.run_forever()\n  File \"/usr/lib/python3.7/asyncio/base_events.py\", line 541, in run_forever\n    self._run_once()\n  File \"/usr/lib/python3.7/asyncio/base_events.py\", line 1786, in _run_once\n    handle._run()\n  File \"/usr/lib/python3.7/asyncio/events.py\", line 88, in _run\n    self._context.run(self._callback, *self._args)\n  File \"/usr/local/lib/python3.7/dist-packages/tornado/platform/asyncio.py\", line 122, in _handle_events\n    handler_func(fileobj, events)\n  File \"/usr/local/lib/python3.7/dist-packages/tornado/stack_context.py\", line 300, in null_wrapper\n    return fn(*args, **kwargs)\n  File \"/usr/local/lib/python3.7/dist-packages/zmq/eventloop/zmqstream.py\", line 452, in _handle_events\n    self._handle_recv()\n  File \"/usr/local/lib/python3.7/dist-packages/zmq/eventloop/zmqstream.py\", line 481, in _handle_recv\n    self._run_callback(callback, msg)\n  File \"/usr/local/lib/python3.7/dist-packages/zmq/eventloop/zmqstream.py\", line 431, in _run_callback\n    callback(*args, **kwargs)\n  File \"/usr/local/lib/python3.7/dist-packages/tornado/stack_context.py\", line 300, in null_wrapper\n    return fn(*args, **kwargs)\n  File \"/usr/local/lib/python3.7/dist-packages/ipykernel/kernelbase.py\", line 283, in dispatcher\n    return self.dispatch_shell(stream, msg)\n  File \"/usr/local/lib/python3.7/dist-packages/ipykernel/kernelbase.py\", line 233, in dispatch_shell\n    handler(stream, idents, msg)\n  File \"/usr/local/lib/python3.7/dist-packages/ipykernel/kernelbase.py\", line 399, in execute_request\n    user_expressions, allow_stdin)\n  File \"/usr/local/lib/python3.7/dist-packages/ipykernel/ipkernel.py\", line 208, in do_execute\n    res = shell.run_cell(code, store_history=store_history, silent=silent)\n  File \"/usr/local/lib/python3.7/dist-packages/ipykernel/zmqshell.py\", line 537, in run_cell\n    return super(ZMQInteractiveShell, self).run_cell(*args, **kwargs)\n  File \"/usr/local/lib/python3.7/dist-packages/IPython/core/interactiveshell.py\", line 2718, in run_cell\n    interactivity=interactivity, compiler=compiler, result=result)\n  File \"/usr/local/lib/python3.7/dist-packages/IPython/core/interactiveshell.py\", line 2822, in run_ast_nodes\n    if self.run_code(code, result):\n  File \"/usr/local/lib/python3.7/dist-packages/IPython/core/interactiveshell.py\", line 2882, in run_code\n    exec(code_obj, self.user_global_ns, self.user_ns)\n  File \"<ipython-input-43-613a2c3cd523>\", line 5, in <module>\n    saver=tf.train.Saver()\n  File \"/usr/local/lib/python3.7/dist-packages/tensorflow_core/python/training/saver.py\", line 828, in __init__\n    self.build()\n  File \"/usr/local/lib/python3.7/dist-packages/tensorflow_core/python/training/saver.py\", line 840, in build\n    self._build(self._filename, build_save=True, build_restore=True)\n  File \"/usr/local/lib/python3.7/dist-packages/tensorflow_core/python/training/saver.py\", line 878, in _build\n    build_restore=build_restore)\n  File \"/usr/local/lib/python3.7/dist-packages/tensorflow_core/python/training/saver.py\", line 508, in _build_internal\n    restore_sequentially, reshape)\n  File \"/usr/local/lib/python3.7/dist-packages/tensorflow_core/python/training/saver.py\", line 350, in _AddRestoreOps\n    assign_ops.append(saveable.restore(saveable_tensors, shapes))\n  File \"/usr/local/lib/python3.7/dist-packages/tensorflow_core/python/training/saving/saveable_object_util.py\", line 73, in restore\n    self.op.get_shape().is_fully_defined())\n  File \"/usr/local/lib/python3.7/dist-packages/tensorflow_core/python/ops/state_ops.py\", line 227, in assign\n    validate_shape=validate_shape)\n  File \"/usr/local/lib/python3.7/dist-packages/tensorflow_core/python/ops/gen_state_ops.py\", line 66, in assign\n    use_locking=use_locking, name=name)\n  File \"/usr/local/lib/python3.7/dist-packages/tensorflow_core/python/framework/op_def_library.py\", line 794, in _apply_op_helper\n    op_def=op_def)\n  File \"/usr/local/lib/python3.7/dist-packages/tensorflow_core/python/util/deprecation.py\", line 507, in new_func\n    return func(*args, **kwargs)\n  File \"/usr/local/lib/python3.7/dist-packages/tensorflow_core/python/framework/ops.py\", line 3357, in create_op\n    attrs, op_def, compute_device)\n  File \"/usr/local/lib/python3.7/dist-packages/tensorflow_core/python/framework/ops.py\", line 3426, in _create_op_internal\n    op_def=op_def)\n  File \"/usr/local/lib/python3.7/dist-packages/tensorflow_core/python/framework/ops.py\", line 1748, in __init__\n    self._traceback = tf_stack.extract_stack()\n",
      "\nDuring handling of the above exception, another exception occurred:\n",
      "\u001b[0;31mInvalidArgumentError\u001b[0m                      Traceback (most recent call last)",
      "\u001b[0;32m<ipython-input-48-23d5a64e2a0d>\u001b[0m in \u001b[0;36m<module>\u001b[0;34m()\u001b[0m\n\u001b[1;32m      1\u001b[0m \u001b[0msess\u001b[0m \u001b[0;34m=\u001b[0m \u001b[0mtf\u001b[0m\u001b[0;34m.\u001b[0m\u001b[0mSession\u001b[0m\u001b[0;34m(\u001b[0m\u001b[0;34m)\u001b[0m\u001b[0;34m\u001b[0m\u001b[0;34m\u001b[0m\u001b[0m\n\u001b[1;32m      2\u001b[0m \u001b[0msess\u001b[0m\u001b[0;34m.\u001b[0m\u001b[0mrun\u001b[0m\u001b[0;34m(\u001b[0m\u001b[0minit\u001b[0m\u001b[0;34m)\u001b[0m\u001b[0;34m\u001b[0m\u001b[0;34m\u001b[0m\u001b[0m\n\u001b[0;32m----> 3\u001b[0;31m \u001b[0msaver\u001b[0m\u001b[0;34m.\u001b[0m\u001b[0mrestore\u001b[0m\u001b[0;34m(\u001b[0m\u001b[0msess\u001b[0m\u001b[0;34m,\u001b[0m \u001b[0;34m'/content/drive/MyDrive/ML2022/lab3/MediaTek_IEE5725_Machine_Learning_Lab3/model/'\u001b[0m\u001b[0;34m)\u001b[0m\u001b[0;34m\u001b[0m\u001b[0;34m\u001b[0m\u001b[0m\n\u001b[0m",
      "\u001b[0;32m/usr/local/lib/python3.7/dist-packages/tensorflow_core/python/training/saver.py\u001b[0m in \u001b[0;36mrestore\u001b[0;34m(self, sess, save_path)\u001b[0m\n\u001b[1;32m   1324\u001b[0m       \u001b[0;31m# We add a more reasonable error message here to help users (b/110263146)\u001b[0m\u001b[0;34m\u001b[0m\u001b[0;34m\u001b[0m\u001b[0;34m\u001b[0m\u001b[0m\n\u001b[1;32m   1325\u001b[0m       raise _wrap_restore_error_with_msg(\n\u001b[0;32m-> 1326\u001b[0;31m           err, \"a mismatch between the current graph and the graph\")\n\u001b[0m\u001b[1;32m   1327\u001b[0m \u001b[0;34m\u001b[0m\u001b[0m\n\u001b[1;32m   1328\u001b[0m   \u001b[0;34m@\u001b[0m\u001b[0mstaticmethod\u001b[0m\u001b[0;34m\u001b[0m\u001b[0;34m\u001b[0m\u001b[0m\n",
      "\u001b[0;31mInvalidArgumentError\u001b[0m: Restoring from checkpoint failed. This is most likely due to a mismatch between the current graph and the graph from the checkpoint. Please ensure that you have not altered the graph expected based on the checkpoint. Original error:\n\n2 root error(s) found.\n  (0) Invalid argument: Assign requires shapes of both tensors to match. lhs shape= [3,3,60,120] rhs shape= [3,3,52,104]\n\t [[node save/Assign_119 (defined at /usr/local/lib/python3.7/dist-packages/tensorflow_core/python/framework/ops.py:1748) ]]\n\t [[save/RestoreV2/_212]]\n  (1) Invalid argument: Assign requires shapes of both tensors to match. lhs shape= [3,3,60,120] rhs shape= [3,3,52,104]\n\t [[node save/Assign_119 (defined at /usr/local/lib/python3.7/dist-packages/tensorflow_core/python/framework/ops.py:1748) ]]\n0 successful operations.\n0 derived errors ignored.\n\nOriginal stack trace for 'save/Assign_119':\n  File \"/usr/lib/python3.7/runpy.py\", line 193, in _run_module_as_main\n    \"__main__\", mod_spec)\n  File \"/usr/lib/python3.7/runpy.py\", line 85, in _run_code\n    exec(code, run_globals)\n  File \"/usr/local/lib/python3.7/dist-packages/ipykernel_launcher.py\", line 16, in <module>\n    app.launch_new_instance()\n  File \"/usr/local/lib/python3.7/dist-packages/traitlets/config/application.py\", line 846, in launch_instance\n    app.start()\n  File \"/usr/local/lib/python3.7/dist-packages/ipykernel/kernelapp.py\", line 499, in start\n    self.io_loop.start()\n  File \"/usr/local/lib/python3.7/dist-packages/tornado/platform/asyncio.py\", line 132, in start\n    self.asyncio_loop.run_forever()\n  File \"/usr/lib/python3.7/asyncio/base_events.py\", line 541, in run_forever\n    self._run_once()\n  File \"/usr/lib/python3.7/asyncio/base_events.py\", line 1786, in _run_once\n    handle._run()\n  File \"/usr/lib/python3.7/asyncio/events.py\", line 88, in _run\n    self._context.run(self._callback, *self._args)\n  File \"/usr/local/lib/python3.7/dist-packages/tornado/platform/asyncio.py\", line 122, in _handle_events\n    handler_func(fileobj, events)\n  File \"/usr/local/lib/python3.7/dist-packages/tornado/stack_context.py\", line 300, in null_wrapper\n    return fn(*args, **kwargs)\n  File \"/usr/local/lib/python3.7/dist-packages/zmq/eventloop/zmqstream.py\", line 452, in _handle_events\n    self._handle_recv()\n  File \"/usr/local/lib/python3.7/dist-packages/zmq/eventloop/zmqstream.py\", line 481, in _handle_recv\n    self._run_callback(callback, msg)\n  File \"/usr/local/lib/python3.7/dist-packages/zmq/eventloop/zmqstream.py\", line 431, in _run_callback\n    callback(*args, **kwargs)\n  File \"/usr/local/lib/python3.7/dist-packages/tornado/stack_context.py\", line 300, in null_wrapper\n    return fn(*args, **kwargs)\n  File \"/usr/local/lib/python3.7/dist-packages/ipykernel/kernelbase.py\", line 283, in dispatcher\n    return self.dispatch_shell(stream, msg)\n  File \"/usr/local/lib/python3.7/dist-packages/ipykernel/kernelbase.py\", line 233, in dispatch_shell\n    handler(stream, idents, msg)\n  File \"/usr/local/lib/python3.7/dist-packages/ipykernel/kernelbase.py\", line 399, in execute_request\n    user_expressions, allow_stdin)\n  File \"/usr/local/lib/python3.7/dist-packages/ipykernel/ipkernel.py\", line 208, in do_execute\n    res = shell.run_cell(code, store_history=store_history, silent=silent)\n  File \"/usr/local/lib/python3.7/dist-packages/ipykernel/zmqshell.py\", line 537, in run_cell\n    return super(ZMQInteractiveShell, self).run_cell(*args, **kwargs)\n  File \"/usr/local/lib/python3.7/dist-packages/IPython/core/interactiveshell.py\", line 2718, in run_cell\n    interactivity=interactivity, compiler=compiler, result=result)\n  File \"/usr/local/lib/python3.7/dist-packages/IPython/core/interactiveshell.py\", line 2822, in run_ast_nodes\n    if self.run_code(code, result):\n  File \"/usr/local/lib/python3.7/dist-packages/IPython/core/interactiveshell.py\", line 2882, in run_code\n    exec(code_obj, self.user_global_ns, self.user_ns)\n  File \"<ipython-input-43-613a2c3cd523>\", line 5, in <module>\n    saver=tf.train.Saver()\n  File \"/usr/local/lib/python3.7/dist-packages/tensorflow_core/python/training/saver.py\", line 828, in __init__\n    self.build()\n  File \"/usr/local/lib/python3.7/dist-packages/tensorflow_core/python/training/saver.py\", line 840, in build\n    self._build(self._filename, build_save=True, build_restore=True)\n  File \"/usr/local/lib/python3.7/dist-packages/tensorflow_core/python/training/saver.py\", line 878, in _build\n    build_restore=build_restore)\n  File \"/usr/local/lib/python3.7/dist-packages/tensorflow_core/python/training/saver.py\", line 508, in _build_internal\n    restore_sequentially, reshape)\n  File \"/usr/local/lib/python3.7/dist-packages/tensorflow_core/python/training/saver.py\", line 350, in _AddRestoreOps\n    assign_ops.append(saveable.restore(saveable_tensors, shapes))\n  File \"/usr/local/lib/python3.7/dist-packages/tensorflow_core/python/training/saving/saveable_object_util.py\", line 73, in restore\n    self.op.get_shape().is_fully_defined())\n  File \"/usr/local/lib/python3.7/dist-packages/tensorflow_core/python/ops/state_ops.py\", line 227, in assign\n    validate_shape=validate_shape)\n  File \"/usr/local/lib/python3.7/dist-packages/tensorflow_core/python/ops/gen_state_ops.py\", line 66, in assign\n    use_locking=use_locking, name=name)\n  File \"/usr/local/lib/python3.7/dist-packages/tensorflow_core/python/framework/op_def_library.py\", line 794, in _apply_op_helper\n    op_def=op_def)\n  File \"/usr/local/lib/python3.7/dist-packages/tensorflow_core/python/util/deprecation.py\", line 507, in new_func\n    return func(*args, **kwargs)\n  File \"/usr/local/lib/python3.7/dist-packages/tensorflow_core/python/framework/ops.py\", line 3357, in create_op\n    attrs, op_def, compute_device)\n  File \"/usr/local/lib/python3.7/dist-packages/tensorflow_core/python/framework/ops.py\", line 3426, in _create_op_internal\n    op_def=op_def)\n  File \"/usr/local/lib/python3.7/dist-packages/tensorflow_core/python/framework/ops.py\", line 1748, in __init__\n    self._traceback = tf_stack.extract_stack()\n"
     ]
    }
   ],
   "source": [
    "sess = tf.Session()\n",
    "sess.run(init)\n",
    "saver.restore(sess, '/content/drive/MyDrive/ML2022/lab3/MediaTek_IEE5725_Machine_Learning_Lab3/model/')"
   ]
  },
  {
   "cell_type": "markdown",
   "metadata": {
    "id": "duuVddf2ZXE7"
   },
   "source": [
    "# Model Profiling to get Flops and #Parameters"
   ]
  },
  {
   "cell_type": "code",
   "execution_count": null,
   "metadata": {
    "colab": {
     "base_uri": "https://localhost:8080/"
    },
    "id": "1BkplE1nnQjl",
    "outputId": "df141ab5-e460-465f-c128-aaa2b7ff0abd"
   },
   "outputs": [
    {
     "name": "stdout",
     "output_type": "stream",
     "text": [
      "WARNING:tensorflow:From /usr/local/lib/python3.7/dist-packages/tensorflow_core/python/profiler/internal/flops_registry.py:142: tensor_shape_from_node_def_name (from tensorflow.python.framework.graph_util_impl) is deprecated and will be removed in a future version.\n",
      "Instructions for updating:\n",
      "Use `tf.compat.v1.graph_util.tensor_shape_from_node_def_name`\n"
     ]
    },
    {
     "name": "stderr",
     "output_type": "stream",
     "text": [
      "145 ops no flops stats due to incomplete shapes.\n"
     ]
    },
    {
     "name": "stdout",
     "output_type": "stream",
     "text": [
      "FLOPs: 8300731; Trainable params:4152402\n"
     ]
    },
    {
     "name": "stderr",
     "output_type": "stream",
     "text": [
      "145 ops no flops stats due to incomplete shapes.\n"
     ]
    }
   ],
   "source": [
    "def stats_graph(graph):\n",
    "  flops = tf.profiler.profile(graph, options=tf.profiler.ProfileOptionBuilder.float_operation())\n",
    "  params = tf.profiler.profile(graph, options=tf.profiler.ProfileOptionBuilder.trainable_variables_parameter())\n",
    "  print('FLOPs: {}; Trainable params:{}'.format(flops.total_float_ops, params.total_parameters))\n",
    "stats_graph(tf.get_default_graph())"
   ]
  },
  {
   "cell_type": "markdown",
   "metadata": {
    "id": "_kHqoec_Zy7W"
   },
   "source": [
    "# Set training Epochs, Print the training logs and Save your Checkpoint"
   ]
  },
  {
   "cell_type": "code",
   "execution_count": null,
   "metadata": {
    "colab": {
     "background_save": true,
     "base_uri": "https://localhost:8080/"
    },
    "id": "IpG8deaLnV-N",
    "outputId": "d1a31039-3e24-4b5a-faba-2b6d2be5d133"
   },
   "outputs": [
    {
     "name": "stdout",
     "output_type": "stream",
     "text": [
      "[1/3][0000/1420] loss: 0.3704 b: 0.0014 \n",
      "checkpoint saved\n",
      "[1/3][0010/1420] loss: 0.3227 b: 0.0014 \n",
      "[1/3][0020/1420] loss: 0.3158 b: 0.0014 \n",
      "[1/3][0030/1420] loss: 0.3498 b: 0.0014 \n",
      "[1/3][0040/1420] loss: 0.3271 b: 0.0014 \n",
      "[1/3][0050/1420] loss: 0.3374 b: 0.0014 \n",
      "[1/3][0060/1420] loss: 0.3128 b: 0.0014 \n",
      "[1/3][0070/1420] loss: 0.3374 b: 0.0014 \n",
      "[1/3][0080/1420] loss: 0.3302 b: 0.0014 \n",
      "[1/3][0090/1420] loss: 0.3193 b: 0.0014 \n",
      "[1/3][0100/1420] loss: 0.3362 b: 0.0014 \n",
      "[1/3][0110/1420] loss: 0.3435 b: 0.0014 \n",
      "[1/3][0120/1420] loss: 0.3138 b: 0.0014 \n",
      "[1/3][0130/1420] loss: 0.3072 b: 0.0014 \n",
      "[1/3][0140/1420] loss: 0.3086 b: 0.0014 \n",
      "[1/3][0150/1420] loss: 0.3404 b: 0.0014 \n",
      "[1/3][0160/1420] loss: 0.3348 b: 0.0014 \n",
      "[1/3][0170/1420] loss: 0.2952 b: 0.0014 \n",
      "[1/3][0180/1420] loss: 0.2997 b: 0.0014 \n",
      "[1/3][0190/1420] loss: 0.3190 b: 0.0014 \n",
      "[1/3][0200/1420] loss: 0.3198 b: 0.0014 \n",
      "[1/3][0210/1420] loss: 0.3251 b: 0.0014 \n",
      "[1/3][0220/1420] loss: 0.3110 b: 0.0014 \n",
      "[1/3][0230/1420] loss: 0.3129 b: 0.0014 \n",
      "[1/3][0240/1420] loss: 0.3549 b: 0.0014 \n",
      "[1/3][0250/1420] loss: 0.3631 b: 0.0014 \n",
      "[1/3][0260/1420] loss: 0.2886 b: 0.0014 \n",
      "[1/3][0270/1420] loss: 0.3469 b: 0.0014 \n",
      "[1/3][0280/1420] loss: 0.2749 b: 0.0014 \n",
      "[1/3][0290/1420] loss: 0.3182 b: 0.0014 \n",
      "[1/3][0300/1420] loss: 0.3221 b: 0.0014 \n",
      "checkpoint saved\n",
      "[1/3][0310/1420] loss: 0.3338 b: 0.0014 \n",
      "[1/3][0320/1420] loss: 0.3364 b: 0.0014 \n",
      "[1/3][0330/1420] loss: 0.3339 b: 0.0014 \n",
      "[1/3][0340/1420] loss: 0.3347 b: 0.0014 \n",
      "[1/3][0350/1420] loss: 0.2754 b: 0.0014 \n",
      "[1/3][0360/1420] loss: 0.3400 b: 0.0014 \n",
      "[1/3][0370/1420] loss: 0.2940 b: 0.0014 \n",
      "[1/3][0380/1420] loss: 0.3043 b: 0.0014 \n",
      "[1/3][0390/1420] loss: 0.3363 b: 0.0014 \n",
      "[1/3][0400/1420] loss: 0.3028 b: 0.0014 \n",
      "[1/3][0410/1420] loss: 0.3143 b: 0.0014 \n",
      "[1/3][0420/1420] loss: 0.2896 b: 0.0014 \n",
      "[1/3][0430/1420] loss: 0.3050 b: 0.0014 \n",
      "[1/3][0440/1420] loss: 0.3252 b: 0.0014 \n",
      "[1/3][0450/1420] loss: 0.3073 b: 0.0014 \n",
      "[1/3][0460/1420] loss: 0.3330 b: 0.0014 \n",
      "[1/3][0470/1420] loss: 0.3004 b: 0.0014 \n",
      "[1/3][0480/1420] loss: 0.3059 b: 0.0014 \n",
      "[1/3][0490/1420] loss: 0.3576 b: 0.0014 \n",
      "[1/3][0500/1420] loss: 0.3103 b: 0.0014 \n",
      "[1/3][0510/1420] loss: 0.3524 b: 0.0014 \n",
      "[1/3][0520/1420] loss: 0.3372 b: 0.0014 \n",
      "[1/3][0530/1420] loss: 0.3400 b: 0.0014 \n",
      "[1/3][0540/1420] loss: 0.2985 b: 0.0014 \n",
      "[1/3][0550/1420] loss: 0.3353 b: 0.0014 \n",
      "[1/3][0560/1420] loss: 0.3113 b: 0.0014 \n",
      "[1/3][0570/1420] loss: 0.3037 b: 0.0014 \n",
      "[1/3][0580/1420] loss: 0.3268 b: 0.0014 \n",
      "[1/3][0590/1420] loss: 0.3241 b: 0.0014 \n",
      "[1/3][0600/1420] loss: 0.3286 b: 0.0014 \n",
      "checkpoint saved\n",
      "[1/3][0610/1420] loss: 0.3397 b: 0.0014 \n",
      "[1/3][0620/1420] loss: 0.3209 b: 0.0014 \n",
      "[1/3][0630/1420] loss: 0.3032 b: 0.0014 \n",
      "[1/3][0640/1420] loss: 0.3058 b: 0.0014 \n",
      "[1/3][0650/1420] loss: 0.2948 b: 0.0014 \n",
      "[1/3][0660/1420] loss: 0.3290 b: 0.0014 \n",
      "[1/3][0670/1420] loss: 0.3089 b: 0.0014 \n",
      "[1/3][0680/1420] loss: 0.3234 b: 0.0014 \n",
      "[1/3][0690/1420] loss: 0.3279 b: 0.0014 \n",
      "[1/3][0700/1420] loss: 0.2787 b: 0.0014 \n",
      "[1/3][0710/1420] loss: 0.2865 b: 0.0014 \n",
      "[1/3][0720/1420] loss: 0.3357 b: 0.0014 \n",
      "[1/3][0730/1420] loss: 0.3306 b: 0.0014 \n",
      "[1/3][0740/1420] loss: 0.3358 b: 0.0014 \n",
      "[1/3][0750/1420] loss: 0.2979 b: 0.0014 \n",
      "[1/3][0760/1420] loss: 0.3175 b: 0.0014 \n",
      "[1/3][0770/1420] loss: 0.3131 b: 0.0014 \n",
      "[1/3][0780/1420] loss: 0.3533 b: 0.0014 \n",
      "[1/3][0790/1420] loss: 0.2669 b: 0.0014 \n",
      "[1/3][0800/1420] loss: 0.2895 b: 0.0014 \n",
      "[1/3][0810/1420] loss: 0.3096 b: 0.0014 \n",
      "[1/3][0820/1420] loss: 0.3144 b: 0.0014 \n",
      "[1/3][0830/1420] loss: 0.3263 b: 0.0014 \n",
      "[1/3][0840/1420] loss: 0.2907 b: 0.0013 \n",
      "[1/3][0850/1420] loss: 0.3326 b: 0.0014 \n",
      "[1/3][0860/1420] loss: 0.3146 b: 0.0014 \n",
      "[1/3][0870/1420] loss: 0.3753 b: 0.0014 \n",
      "[1/3][0880/1420] loss: 0.3253 b: 0.0013 \n",
      "[1/3][0890/1420] loss: 0.3069 b: 0.0014 \n",
      "[1/3][0900/1420] loss: 0.3759 b: 0.0014 \n",
      "checkpoint saved\n",
      "[1/3][0910/1420] loss: 0.3475 b: 0.0013 \n",
      "[1/3][0920/1420] loss: 0.2953 b: 0.0013 \n",
      "[1/3][0930/1420] loss: 0.3333 b: 0.0013 \n",
      "[1/3][0940/1420] loss: 0.3249 b: 0.0013 \n",
      "[1/3][0950/1420] loss: 0.3058 b: 0.0013 \n",
      "[1/3][0960/1420] loss: 0.3365 b: 0.0014 \n",
      "[1/3][0970/1420] loss: 0.2941 b: 0.0013 \n",
      "[1/3][0980/1420] loss: 0.3386 b: 0.0013 \n",
      "[1/3][0990/1420] loss: 0.3383 b: 0.0013 \n",
      "[1/3][1000/1420] loss: 0.3459 b: 0.0014 \n",
      "[1/3][1010/1420] loss: 0.3346 b: 0.0013 \n",
      "[1/3][1020/1420] loss: 0.3673 b: 0.0013 \n",
      "[1/3][1030/1420] loss: 0.2977 b: 0.0013 \n",
      "[1/3][1040/1420] loss: 0.3066 b: 0.0014 \n",
      "[1/3][1050/1420] loss: 0.2966 b: 0.0013 \n",
      "[1/3][1060/1420] loss: 0.2851 b: 0.0013 \n",
      "[1/3][1070/1420] loss: 0.3427 b: 0.0014 \n",
      "[1/3][1080/1420] loss: 0.3436 b: 0.0014 \n",
      "[1/3][1090/1420] loss: 0.3289 b: 0.0014 \n",
      "[1/3][1100/1420] loss: 0.2716 b: 0.0014 \n",
      "[1/3][1110/1420] loss: 0.2924 b: 0.0014 \n",
      "[1/3][1120/1420] loss: 0.3004 b: 0.0014 \n",
      "[1/3][1130/1420] loss: 0.3205 b: 0.0014 \n",
      "[1/3][1140/1420] loss: 0.3087 b: 0.0014 \n",
      "[1/3][1150/1420] loss: 0.3506 b: 0.0014 \n",
      "[1/3][1160/1420] loss: 0.3031 b: 0.0014 \n",
      "[1/3][1170/1420] loss: 0.3425 b: 0.0014 \n",
      "[1/3][1180/1420] loss: 0.2857 b: 0.0014 \n",
      "[1/3][1190/1420] loss: 0.3402 b: 0.0014 \n",
      "[1/3][1200/1420] loss: 0.3444 b: 0.0014 \n",
      "checkpoint saved\n",
      "[1/3][1210/1420] loss: 0.3456 b: 0.0013 \n",
      "[1/3][1220/1420] loss: 0.3452 b: 0.0013 \n",
      "[1/3][1230/1420] loss: 0.3457 b: 0.0014 \n",
      "[1/3][1240/1420] loss: 0.3595 b: 0.0013 \n",
      "[1/3][1250/1420] loss: 0.3075 b: 0.0013 \n",
      "[1/3][1260/1420] loss: 0.3406 b: 0.0013 \n",
      "[1/3][1270/1420] loss: 0.3124 b: 0.0013 \n",
      "[1/3][1280/1420] loss: 0.2875 b: 0.0014 \n",
      "[1/3][1290/1420] loss: 0.2724 b: 0.0014 \n",
      "[1/3][1300/1420] loss: 0.3308 b: 0.0014 \n",
      "[1/3][1310/1420] loss: 0.3295 b: 0.0014 \n",
      "[1/3][1320/1420] loss: 0.3451 b: 0.0014 \n",
      "[1/3][1330/1420] loss: 0.2955 b: 0.0013 \n",
      "[1/3][1340/1420] loss: 0.3189 b: 0.0013 \n",
      "[1/3][1350/1420] loss: 0.2914 b: 0.0013 \n",
      "[1/3][1360/1420] loss: 0.3253 b: 0.0013 \n",
      "[1/3][1370/1420] loss: 0.3106 b: 0.0013 \n",
      "[1/3][1380/1420] loss: 0.3286 b: 0.0014 \n",
      "[1/3][1390/1420] loss: 0.2858 b: 0.0014 \n",
      "[1/3][1400/1420] loss: 0.3170 b: 0.0013 \n",
      "[1/3][1410/1420] loss: 0.3318 b: 0.0014 \n",
      "checkpoint saved\n",
      "[2/3][0000/1420] loss: 0.3115 b: 0.0013 \n",
      "checkpoint saved\n",
      "[2/3][0010/1420] loss: 0.3210 b: 0.0013 \n",
      "[2/3][0020/1420] loss: 0.3229 b: 0.0013 \n",
      "[2/3][0030/1420] loss: 0.3617 b: 0.0013 \n",
      "[2/3][0040/1420] loss: 0.3418 b: 0.0013 \n",
      "[2/3][0050/1420] loss: 0.3022 b: 0.0013 \n",
      "[2/3][0060/1420] loss: 0.3312 b: 0.0013 \n",
      "[2/3][0070/1420] loss: 0.3138 b: 0.0013 \n",
      "[2/3][0080/1420] loss: 0.2835 b: 0.0013 \n",
      "[2/3][0090/1420] loss: 0.2847 b: 0.0013 \n",
      "[2/3][0100/1420] loss: 0.3059 b: 0.0013 \n",
      "[2/3][0110/1420] loss: 0.3258 b: 0.0013 \n",
      "[2/3][0120/1420] loss: 0.3214 b: 0.0013 \n",
      "[2/3][0130/1420] loss: 0.2854 b: 0.0013 \n",
      "[2/3][0140/1420] loss: 0.3317 b: 0.0013 \n",
      "[2/3][0150/1420] loss: 0.3065 b: 0.0013 \n",
      "[2/3][0160/1420] loss: 0.3051 b: 0.0013 \n",
      "[2/3][0170/1420] loss: 0.3575 b: 0.0013 \n",
      "[2/3][0180/1420] loss: 0.3258 b: 0.0013 \n",
      "[2/3][0190/1420] loss: 0.3093 b: 0.0013 \n",
      "[2/3][0200/1420] loss: 0.3111 b: 0.0013 \n",
      "[2/3][0210/1420] loss: 0.3441 b: 0.0013 \n",
      "[2/3][0220/1420] loss: 0.3090 b: 0.0013 \n",
      "[2/3][0230/1420] loss: 0.3366 b: 0.0013 \n",
      "[2/3][0240/1420] loss: 0.3323 b: 0.0013 \n",
      "[2/3][0250/1420] loss: 0.2727 b: 0.0013 \n",
      "[2/3][0260/1420] loss: 0.3248 b: 0.0013 \n",
      "[2/3][0270/1420] loss: 0.3465 b: 0.0014 \n",
      "[2/3][0280/1420] loss: 0.3146 b: 0.0014 \n",
      "[2/3][0290/1420] loss: 0.2931 b: 0.0013 \n",
      "[2/3][0300/1420] loss: 0.3286 b: 0.0013 \n",
      "checkpoint saved\n",
      "[2/3][0310/1420] loss: 0.3055 b: 0.0013 \n",
      "[2/3][0320/1420] loss: 0.3253 b: 0.0013 \n",
      "[2/3][0330/1420] loss: 0.3324 b: 0.0013 \n",
      "[2/3][0340/1420] loss: 0.3237 b: 0.0013 \n",
      "[2/3][0350/1420] loss: 0.3502 b: 0.0013 \n",
      "[2/3][0360/1420] loss: 0.3051 b: 0.0013 \n",
      "[2/3][0370/1420] loss: 0.2807 b: 0.0013 \n",
      "[2/3][0380/1420] loss: 0.3067 b: 0.0013 \n",
      "[2/3][0390/1420] loss: 0.3225 b: 0.0013 \n",
      "[2/3][0400/1420] loss: 0.3749 b: 0.0013 \n",
      "[2/3][0410/1420] loss: 0.3139 b: 0.0013 \n",
      "[2/3][0420/1420] loss: 0.3012 b: 0.0013 \n",
      "[2/3][0430/1420] loss: 0.3060 b: 0.0013 \n",
      "[2/3][0440/1420] loss: 0.3638 b: 0.0013 \n",
      "[2/3][0450/1420] loss: 0.3084 b: 0.0013 \n",
      "[2/3][0460/1420] loss: 0.3185 b: 0.0013 \n",
      "[2/3][0470/1420] loss: 0.3514 b: 0.0013 \n",
      "[2/3][0480/1420] loss: 0.3286 b: 0.0013 \n",
      "[2/3][0490/1420] loss: 0.3368 b: 0.0013 \n",
      "[2/3][0500/1420] loss: 0.2847 b: 0.0013 \n",
      "[2/3][0510/1420] loss: 0.3085 b: 0.0013 \n",
      "[2/3][0520/1420] loss: 0.2726 b: 0.0013 \n",
      "[2/3][0530/1420] loss: 0.3331 b: 0.0013 \n",
      "[2/3][0540/1420] loss: 0.2917 b: 0.0013 \n",
      "[2/3][0550/1420] loss: 0.2492 b: 0.0013 \n",
      "[2/3][0560/1420] loss: 0.3260 b: 0.0013 \n",
      "[2/3][0570/1420] loss: 0.3103 b: 0.0013 \n",
      "[2/3][0580/1420] loss: 0.2929 b: 0.0013 \n",
      "[2/3][0590/1420] loss: 0.3254 b: 0.0013 \n",
      "[2/3][0600/1420] loss: 0.2789 b: 0.0013 \n",
      "checkpoint saved\n",
      "[2/3][0610/1420] loss: 0.2948 b: 0.0013 \n",
      "[2/3][0620/1420] loss: 0.3265 b: 0.0013 \n",
      "[2/3][0630/1420] loss: 0.2615 b: 0.0013 \n",
      "[2/3][0640/1420] loss: 0.3002 b: 0.0013 \n",
      "[2/3][0650/1420] loss: 0.2965 b: 0.0013 \n",
      "[2/3][0660/1420] loss: 0.3295 b: 0.0013 \n",
      "[2/3][0670/1420] loss: 0.3111 b: 0.0013 \n",
      "[2/3][0680/1420] loss: 0.2736 b: 0.0013 \n",
      "[2/3][0690/1420] loss: 0.2905 b: 0.0013 \n",
      "[2/3][0700/1420] loss: 0.3271 b: 0.0013 \n",
      "[2/3][0710/1420] loss: 0.2965 b: 0.0013 \n",
      "[2/3][0720/1420] loss: 0.3201 b: 0.0013 \n",
      "[2/3][0730/1420] loss: 0.3380 b: 0.0013 \n",
      "[2/3][0740/1420] loss: 0.3357 b: 0.0013 \n",
      "[2/3][0750/1420] loss: 0.2888 b: 0.0013 \n",
      "[2/3][0760/1420] loss: 0.3172 b: 0.0013 \n",
      "[2/3][0770/1420] loss: 0.3058 b: 0.0013 \n",
      "[2/3][0780/1420] loss: 0.2812 b: 0.0013 \n",
      "[2/3][0790/1420] loss: 0.3547 b: 0.0013 \n",
      "[2/3][0800/1420] loss: 0.3027 b: 0.0013 \n",
      "[2/3][0810/1420] loss: 0.3450 b: 0.0013 \n",
      "[2/3][0820/1420] loss: 0.3152 b: 0.0013 \n",
      "[2/3][0830/1420] loss: 0.2703 b: 0.0013 \n",
      "[2/3][0840/1420] loss: 0.3477 b: 0.0013 \n",
      "[2/3][0850/1420] loss: 0.2719 b: 0.0013 \n",
      "[2/3][0860/1420] loss: 0.2931 b: 0.0013 \n",
      "[2/3][0870/1420] loss: 0.3233 b: 0.0013 \n",
      "[2/3][0880/1420] loss: 0.3104 b: 0.0013 \n"
     ]
    }
   ],
   "source": [
    "num_epochs = 1\n",
    "for epoch in range(num_epochs):\n",
    "  for i, data in enumerate(dataloader, 0):\n",
    "    input = data[0].numpy()\n",
    "    label = data[1].numpy()\n",
    "    sess.run(train,feed_dict={inputs: input, y_: label})\n",
    "    if i % 10 == 0:\n",
    "      print(\"[%d/%d][%s/%d] loss: %.4f b: %.4f \"\\\n",
    "            %(epoch+1, num_epochs, str(i).zfill(4), len(dataloader), sess.run(loss,feed_dict={inputs: input, y_: label}),sess.run(b)) )\n",
    "    if i%300==0:\n",
    "      print('checkpoint saved')\n",
    "      saver.save(sess, 'drive/MyDrive/MediaTek_IEE5725_Machine_Learning_Lab3/model/')\n",
    "  saver.save(sess, 'drive/MyDrive/MediaTek_IEE5725_Machine_Learning_Lab3/model/')\n",
    "  print('checkpoint saved')"
   ]
  },
  {
   "cell_type": "markdown",
   "metadata": {
    "id": "qCpOWFx1aH6A"
   },
   "source": [
    "# Save your graph into .pb"
   ]
  },
  {
   "cell_type": "code",
   "execution_count": null,
   "metadata": {
    "id": "QMoUait3wmOf"
   },
   "outputs": [],
   "source": [
    "graph_def = convert_variables_to_constants(sess, sess.graph_def, output_node_names = ['ArgMax'])\n",
    "tf.train.write_graph(graph_def, '/content/MediaTek_IEE5725_Machine_Learning_Lab3/', 'lab3_model.pb', as_text = False)"
   ]
  },
  {
   "cell_type": "code",
   "execution_count": null,
   "metadata": {
    "id": "Zhn00kRio5vO"
   },
   "outputs": [],
   "source": [
    "plt.imshow(data[0][0]/255.0)"
   ]
  },
  {
   "cell_type": "code",
   "execution_count": null,
   "metadata": {
    "id": "v78li6HUo7LV"
   },
   "outputs": [],
   "source": [
    "plt.imshow(np.argmax(data[1][0], 2))"
   ]
  },
  {
   "cell_type": "markdown",
   "metadata": {
    "id": "ELldySJJaZ0m"
   },
   "source": [
    "# Show your results in different Epochs"
   ]
  },
  {
   "cell_type": "code",
   "execution_count": null,
   "metadata": {
    "id": "8vWIOlFzo8_3"
   },
   "outputs": [],
   "source": [
    "predict=sess.run(outputs,feed_dict={inputs: data[0]})\n",
    "plt.imshow(predict[0])"
   ]
  },
  {
   "cell_type": "code",
   "execution_count": null,
   "metadata": {
    "id": "qLTRDyZNpVmt"
   },
   "outputs": [],
   "source": [
    "sess.close()"
   ]
  },
  {
   "cell_type": "markdown",
   "metadata": {
    "id": "dWwDKrWUastK"
   },
   "source": [
    "# Run your model on real device"
   ]
  }
 ],
 "metadata": {
  "accelerator": "GPU",
  "colab": {
   "collapsed_sections": [],
   "name": "[MediaTek@IEE5725] Machine Learning (Student)- Lab1.ipynb",
   "provenance": []
  },
  "kernelspec": {
   "display_name": "Python 3",
   "language": "python",
   "name": "python3"
  },
  "language_info": {
   "codemirror_mode": {
    "name": "ipython",
    "version": 3
   },
   "file_extension": ".py",
   "mimetype": "text/x-python",
   "name": "python",
   "nbconvert_exporter": "python",
   "pygments_lexer": "ipython3",
   "version": "3.8.3"
  }
 },
 "nbformat": 4,
 "nbformat_minor": 1
}
